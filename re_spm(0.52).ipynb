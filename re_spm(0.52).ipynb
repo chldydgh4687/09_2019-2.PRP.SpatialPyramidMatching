{
  "nbformat": 4,
  "nbformat_minor": 0,
  "metadata": {
    "colab": {
      "name": "re_spm.ipynb의 사본",
      "provenance": [],
      "toc_visible": true,
      "include_colab_link": true
    },
    "kernelspec": {
      "name": "python3",
      "display_name": "Python 3"
    },
    "widgets": {
      "application/vnd.jupyter.widget-state+json": {
        "a73e1f3d264e4561b9988c3c0cfe3c34": {
          "model_module": "@jupyter-widgets/controls",
          "model_name": "HBoxModel",
          "state": {
            "_view_name": "HBoxView",
            "_dom_classes": [],
            "_model_name": "HBoxModel",
            "_view_module": "@jupyter-widgets/controls",
            "_model_module_version": "1.5.0",
            "_view_count": null,
            "_view_module_version": "1.5.0",
            "box_style": "",
            "layout": "IPY_MODEL_872a78730bba4caab031cf6fc74b9d7d",
            "_model_module": "@jupyter-widgets/controls",
            "children": [
              "IPY_MODEL_a7ebad8f43b64c22a0e4e46bd419fac4",
              "IPY_MODEL_d06216bc037848f1a72eb3765b9c3a44"
            ]
          }
        },
        "872a78730bba4caab031cf6fc74b9d7d": {
          "model_module": "@jupyter-widgets/base",
          "model_name": "LayoutModel",
          "state": {
            "_view_name": "LayoutView",
            "grid_template_rows": null,
            "right": null,
            "justify_content": null,
            "_view_module": "@jupyter-widgets/base",
            "overflow": null,
            "_model_module_version": "1.2.0",
            "_view_count": null,
            "flex_flow": null,
            "width": null,
            "min_width": null,
            "border": null,
            "align_items": null,
            "bottom": null,
            "_model_module": "@jupyter-widgets/base",
            "top": null,
            "grid_column": null,
            "overflow_y": null,
            "overflow_x": null,
            "grid_auto_flow": null,
            "grid_area": null,
            "grid_template_columns": null,
            "flex": null,
            "_model_name": "LayoutModel",
            "justify_items": null,
            "grid_row": null,
            "max_height": null,
            "align_content": null,
            "visibility": null,
            "align_self": null,
            "height": null,
            "min_height": null,
            "padding": null,
            "grid_auto_rows": null,
            "grid_gap": null,
            "max_width": null,
            "order": null,
            "_view_module_version": "1.2.0",
            "grid_template_areas": null,
            "object_position": null,
            "object_fit": null,
            "grid_auto_columns": null,
            "margin": null,
            "display": null,
            "left": null
          }
        },
        "a7ebad8f43b64c22a0e4e46bd419fac4": {
          "model_module": "@jupyter-widgets/controls",
          "model_name": "IntProgressModel",
          "state": {
            "_view_name": "ProgressView",
            "style": "IPY_MODEL_f84617b13cf14502aefad010070994cb",
            "_dom_classes": [],
            "description": "",
            "_model_name": "IntProgressModel",
            "bar_style": "success",
            "max": 102,
            "_view_module": "@jupyter-widgets/controls",
            "_model_module_version": "1.5.0",
            "value": 102,
            "_view_count": null,
            "_view_module_version": "1.5.0",
            "orientation": "horizontal",
            "min": 0,
            "description_tooltip": null,
            "_model_module": "@jupyter-widgets/controls",
            "layout": "IPY_MODEL_65181c7213b845ce8510c8856c03e1cf"
          }
        },
        "d06216bc037848f1a72eb3765b9c3a44": {
          "model_module": "@jupyter-widgets/controls",
          "model_name": "HTMLModel",
          "state": {
            "_view_name": "HTMLView",
            "style": "IPY_MODEL_549985de5abb4891b21f812402279f62",
            "_dom_classes": [],
            "description": "",
            "_model_name": "HTMLModel",
            "placeholder": "​",
            "_view_module": "@jupyter-widgets/controls",
            "_model_module_version": "1.5.0",
            "value": "100% 102/102 [05:09&lt;00:00,  3.02s/it]",
            "_view_count": null,
            "_view_module_version": "1.5.0",
            "description_tooltip": null,
            "_model_module": "@jupyter-widgets/controls",
            "layout": "IPY_MODEL_96e853949ae041b6a05ece8427b34921"
          }
        },
        "f84617b13cf14502aefad010070994cb": {
          "model_module": "@jupyter-widgets/controls",
          "model_name": "ProgressStyleModel",
          "state": {
            "_view_name": "StyleView",
            "_model_name": "ProgressStyleModel",
            "description_width": "",
            "_view_module": "@jupyter-widgets/base",
            "_model_module_version": "1.5.0",
            "_view_count": null,
            "_view_module_version": "1.2.0",
            "bar_color": null,
            "_model_module": "@jupyter-widgets/controls"
          }
        },
        "65181c7213b845ce8510c8856c03e1cf": {
          "model_module": "@jupyter-widgets/base",
          "model_name": "LayoutModel",
          "state": {
            "_view_name": "LayoutView",
            "grid_template_rows": null,
            "right": null,
            "justify_content": null,
            "_view_module": "@jupyter-widgets/base",
            "overflow": null,
            "_model_module_version": "1.2.0",
            "_view_count": null,
            "flex_flow": null,
            "width": null,
            "min_width": null,
            "border": null,
            "align_items": null,
            "bottom": null,
            "_model_module": "@jupyter-widgets/base",
            "top": null,
            "grid_column": null,
            "overflow_y": null,
            "overflow_x": null,
            "grid_auto_flow": null,
            "grid_area": null,
            "grid_template_columns": null,
            "flex": null,
            "_model_name": "LayoutModel",
            "justify_items": null,
            "grid_row": null,
            "max_height": null,
            "align_content": null,
            "visibility": null,
            "align_self": null,
            "height": null,
            "min_height": null,
            "padding": null,
            "grid_auto_rows": null,
            "grid_gap": null,
            "max_width": null,
            "order": null,
            "_view_module_version": "1.2.0",
            "grid_template_areas": null,
            "object_position": null,
            "object_fit": null,
            "grid_auto_columns": null,
            "margin": null,
            "display": null,
            "left": null
          }
        },
        "549985de5abb4891b21f812402279f62": {
          "model_module": "@jupyter-widgets/controls",
          "model_name": "DescriptionStyleModel",
          "state": {
            "_view_name": "StyleView",
            "_model_name": "DescriptionStyleModel",
            "description_width": "",
            "_view_module": "@jupyter-widgets/base",
            "_model_module_version": "1.5.0",
            "_view_count": null,
            "_view_module_version": "1.2.0",
            "_model_module": "@jupyter-widgets/controls"
          }
        },
        "96e853949ae041b6a05ece8427b34921": {
          "model_module": "@jupyter-widgets/base",
          "model_name": "LayoutModel",
          "state": {
            "_view_name": "LayoutView",
            "grid_template_rows": null,
            "right": null,
            "justify_content": null,
            "_view_module": "@jupyter-widgets/base",
            "overflow": null,
            "_model_module_version": "1.2.0",
            "_view_count": null,
            "flex_flow": null,
            "width": null,
            "min_width": null,
            "border": null,
            "align_items": null,
            "bottom": null,
            "_model_module": "@jupyter-widgets/base",
            "top": null,
            "grid_column": null,
            "overflow_y": null,
            "overflow_x": null,
            "grid_auto_flow": null,
            "grid_area": null,
            "grid_template_columns": null,
            "flex": null,
            "_model_name": "LayoutModel",
            "justify_items": null,
            "grid_row": null,
            "max_height": null,
            "align_content": null,
            "visibility": null,
            "align_self": null,
            "height": null,
            "min_height": null,
            "padding": null,
            "grid_auto_rows": null,
            "grid_gap": null,
            "max_width": null,
            "order": null,
            "_view_module_version": "1.2.0",
            "grid_template_areas": null,
            "object_position": null,
            "object_fit": null,
            "grid_auto_columns": null,
            "margin": null,
            "display": null,
            "left": null
          }
        },
        "208835b82cf2460f8d62f5454692c94d": {
          "model_module": "@jupyter-widgets/controls",
          "model_name": "HBoxModel",
          "state": {
            "_view_name": "HBoxView",
            "_dom_classes": [],
            "_model_name": "HBoxModel",
            "_view_module": "@jupyter-widgets/controls",
            "_model_module_version": "1.5.0",
            "_view_count": null,
            "_view_module_version": "1.5.0",
            "box_style": "",
            "layout": "IPY_MODEL_bbcf51edaef94323b1ff7f03709a3b98",
            "_model_module": "@jupyter-widgets/controls",
            "children": [
              "IPY_MODEL_6401d62988ff4bfc907650e50c792efa",
              "IPY_MODEL_6cc511cc5b9744e18f7de55c92502a72"
            ]
          }
        },
        "bbcf51edaef94323b1ff7f03709a3b98": {
          "model_module": "@jupyter-widgets/base",
          "model_name": "LayoutModel",
          "state": {
            "_view_name": "LayoutView",
            "grid_template_rows": null,
            "right": null,
            "justify_content": null,
            "_view_module": "@jupyter-widgets/base",
            "overflow": null,
            "_model_module_version": "1.2.0",
            "_view_count": null,
            "flex_flow": null,
            "width": null,
            "min_width": null,
            "border": null,
            "align_items": null,
            "bottom": null,
            "_model_module": "@jupyter-widgets/base",
            "top": null,
            "grid_column": null,
            "overflow_y": null,
            "overflow_x": null,
            "grid_auto_flow": null,
            "grid_area": null,
            "grid_template_columns": null,
            "flex": null,
            "_model_name": "LayoutModel",
            "justify_items": null,
            "grid_row": null,
            "max_height": null,
            "align_content": null,
            "visibility": null,
            "align_self": null,
            "height": null,
            "min_height": null,
            "padding": null,
            "grid_auto_rows": null,
            "grid_gap": null,
            "max_width": null,
            "order": null,
            "_view_module_version": "1.2.0",
            "grid_template_areas": null,
            "object_position": null,
            "object_fit": null,
            "grid_auto_columns": null,
            "margin": null,
            "display": null,
            "left": null
          }
        },
        "6401d62988ff4bfc907650e50c792efa": {
          "model_module": "@jupyter-widgets/controls",
          "model_name": "IntProgressModel",
          "state": {
            "_view_name": "ProgressView",
            "style": "IPY_MODEL_131e8c815299483db6ccc205b2dccc5f",
            "_dom_classes": [],
            "description": "",
            "_model_name": "IntProgressModel",
            "bar_style": "success",
            "max": 1692,
            "_view_module": "@jupyter-widgets/controls",
            "_model_module_version": "1.5.0",
            "value": 1692,
            "_view_count": null,
            "_view_module_version": "1.5.0",
            "orientation": "horizontal",
            "min": 0,
            "description_tooltip": null,
            "_model_module": "@jupyter-widgets/controls",
            "layout": "IPY_MODEL_c0c671c609cd42b6ac13256446c0959a"
          }
        },
        "6cc511cc5b9744e18f7de55c92502a72": {
          "model_module": "@jupyter-widgets/controls",
          "model_name": "HTMLModel",
          "state": {
            "_view_name": "HTMLView",
            "style": "IPY_MODEL_21846b791f484764989489fd6dc2faa2",
            "_dom_classes": [],
            "description": "",
            "_model_name": "HTMLModel",
            "placeholder": "​",
            "_view_module": "@jupyter-widgets/controls",
            "_model_module_version": "1.5.0",
            "value": "100% 1692/1692 [03:01&lt;00:00,  9.20it/s]",
            "_view_count": null,
            "_view_module_version": "1.5.0",
            "description_tooltip": null,
            "_model_module": "@jupyter-widgets/controls",
            "layout": "IPY_MODEL_901612be10684404aff2c654ebcd15ec"
          }
        },
        "131e8c815299483db6ccc205b2dccc5f": {
          "model_module": "@jupyter-widgets/controls",
          "model_name": "ProgressStyleModel",
          "state": {
            "_view_name": "StyleView",
            "_model_name": "ProgressStyleModel",
            "description_width": "",
            "_view_module": "@jupyter-widgets/base",
            "_model_module_version": "1.5.0",
            "_view_count": null,
            "_view_module_version": "1.2.0",
            "bar_color": null,
            "_model_module": "@jupyter-widgets/controls"
          }
        },
        "c0c671c609cd42b6ac13256446c0959a": {
          "model_module": "@jupyter-widgets/base",
          "model_name": "LayoutModel",
          "state": {
            "_view_name": "LayoutView",
            "grid_template_rows": null,
            "right": null,
            "justify_content": null,
            "_view_module": "@jupyter-widgets/base",
            "overflow": null,
            "_model_module_version": "1.2.0",
            "_view_count": null,
            "flex_flow": null,
            "width": null,
            "min_width": null,
            "border": null,
            "align_items": null,
            "bottom": null,
            "_model_module": "@jupyter-widgets/base",
            "top": null,
            "grid_column": null,
            "overflow_y": null,
            "overflow_x": null,
            "grid_auto_flow": null,
            "grid_area": null,
            "grid_template_columns": null,
            "flex": null,
            "_model_name": "LayoutModel",
            "justify_items": null,
            "grid_row": null,
            "max_height": null,
            "align_content": null,
            "visibility": null,
            "align_self": null,
            "height": null,
            "min_height": null,
            "padding": null,
            "grid_auto_rows": null,
            "grid_gap": null,
            "max_width": null,
            "order": null,
            "_view_module_version": "1.2.0",
            "grid_template_areas": null,
            "object_position": null,
            "object_fit": null,
            "grid_auto_columns": null,
            "margin": null,
            "display": null,
            "left": null
          }
        },
        "21846b791f484764989489fd6dc2faa2": {
          "model_module": "@jupyter-widgets/controls",
          "model_name": "DescriptionStyleModel",
          "state": {
            "_view_name": "StyleView",
            "_model_name": "DescriptionStyleModel",
            "description_width": "",
            "_view_module": "@jupyter-widgets/base",
            "_model_module_version": "1.5.0",
            "_view_count": null,
            "_view_module_version": "1.2.0",
            "_model_module": "@jupyter-widgets/controls"
          }
        },
        "901612be10684404aff2c654ebcd15ec": {
          "model_module": "@jupyter-widgets/base",
          "model_name": "LayoutModel",
          "state": {
            "_view_name": "LayoutView",
            "grid_template_rows": null,
            "right": null,
            "justify_content": null,
            "_view_module": "@jupyter-widgets/base",
            "overflow": null,
            "_model_module_version": "1.2.0",
            "_view_count": null,
            "flex_flow": null,
            "width": null,
            "min_width": null,
            "border": null,
            "align_items": null,
            "bottom": null,
            "_model_module": "@jupyter-widgets/base",
            "top": null,
            "grid_column": null,
            "overflow_y": null,
            "overflow_x": null,
            "grid_auto_flow": null,
            "grid_area": null,
            "grid_template_columns": null,
            "flex": null,
            "_model_name": "LayoutModel",
            "justify_items": null,
            "grid_row": null,
            "max_height": null,
            "align_content": null,
            "visibility": null,
            "align_self": null,
            "height": null,
            "min_height": null,
            "padding": null,
            "grid_auto_rows": null,
            "grid_gap": null,
            "max_width": null,
            "order": null,
            "_view_module_version": "1.2.0",
            "grid_template_areas": null,
            "object_position": null,
            "object_fit": null,
            "grid_auto_columns": null,
            "margin": null,
            "display": null,
            "left": null
          }
        }
      }
    }
  },
  "cells": [
    {
      "cell_type": "markdown",
      "metadata": {
        "id": "view-in-github",
        "colab_type": "text"
      },
      "source": [
        "<a href=\"https://colab.research.google.com/github/chldydgh4687/PRproject/blob/master/re_spm(0.52).ipynb\" target=\"_parent\"><img src=\"https://colab.research.google.com/assets/colab-badge.svg\" alt=\"Open In Colab\"/></a>"
      ]
    },
    {
      "cell_type": "markdown",
      "metadata": {
        "id": "HxZrJWgXRkUg",
        "colab_type": "text"
      },
      "source": [
        "# * Kaggle Connecting"
      ]
    },
    {
      "cell_type": "code",
      "metadata": {
        "id": "tPFmSQqzUgtG",
        "colab_type": "code",
        "outputId": "13825597-5dde-4f0d-9e01-a8b52030b636",
        "colab": {
          "base_uri": "https://localhost:8080/",
          "height": 481
        }
      },
      "source": [
        "!ls -lha kaggle.json\n",
        "\n",
        "!pip uninstall -y kaggle\n",
        "!pip install --upgrade pip\n",
        "!pip install kaggle==1.5.6\n",
        "\n",
        "\n",
        "# 캐글연동을 위한 토큰 입력\n",
        "! mkdir -p ~/.kaggle\n",
        "! cp kaggle.json ~/.kaggle/\n",
        "! chmod 600 ~/.kaggle/kaggle.json\n",
        "\n",
        "\n",
        "# 버전이 1.5.6 이 아니면, 진행할 수 없다\n",
        "! kaggle -v"
      ],
      "execution_count": 0,
      "outputs": [
        {
          "output_type": "stream",
          "text": [
            "-rw-r--r-- 1 root root 66 Dec  5 10:03 kaggle.json\n",
            "Uninstalling kaggle-1.5.6:\n",
            "  Successfully uninstalled kaggle-1.5.6\n",
            "Requirement already up-to-date: pip in /usr/local/lib/python3.6/dist-packages (19.3.1)\n",
            "Collecting kaggle==1.5.6\n",
            "\u001b[?25l  Downloading https://files.pythonhosted.org/packages/62/ab/bb20f9b9e24f9a6250f95a432f8d9a7d745f8d24039d7a5a6eaadb7783ba/kaggle-1.5.6.tar.gz (58kB)\n",
            "\u001b[K     |████████████████████████████████| 61kB 2.9MB/s \n",
            "\u001b[?25hRequirement already satisfied: urllib3<1.25,>=1.21.1 in /usr/local/lib/python3.6/dist-packages (from kaggle==1.5.6) (1.24.3)\n",
            "Requirement already satisfied: six>=1.10 in /usr/local/lib/python3.6/dist-packages (from kaggle==1.5.6) (1.12.0)\n",
            "Requirement already satisfied: certifi in /usr/local/lib/python3.6/dist-packages (from kaggle==1.5.6) (2019.9.11)\n",
            "Requirement already satisfied: python-dateutil in /usr/local/lib/python3.6/dist-packages (from kaggle==1.5.6) (2.6.1)\n",
            "Requirement already satisfied: requests in /usr/local/lib/python3.6/dist-packages (from kaggle==1.5.6) (2.21.0)\n",
            "Requirement already satisfied: tqdm in /usr/local/lib/python3.6/dist-packages (from kaggle==1.5.6) (4.28.1)\n",
            "Requirement already satisfied: python-slugify in /usr/local/lib/python3.6/dist-packages (from kaggle==1.5.6) (4.0.0)\n",
            "Requirement already satisfied: idna<2.9,>=2.5 in /usr/local/lib/python3.6/dist-packages (from requests->kaggle==1.5.6) (2.8)\n",
            "Requirement already satisfied: chardet<3.1.0,>=3.0.2 in /usr/local/lib/python3.6/dist-packages (from requests->kaggle==1.5.6) (3.0.4)\n",
            "Requirement already satisfied: text-unidecode>=1.3 in /usr/local/lib/python3.6/dist-packages (from python-slugify->kaggle==1.5.6) (1.3)\n",
            "Building wheels for collected packages: kaggle\n",
            "  Building wheel for kaggle (setup.py) ... \u001b[?25l\u001b[?25hdone\n",
            "  Created wheel for kaggle: filename=kaggle-1.5.6-cp36-none-any.whl size=72859 sha256=d03ac0e888de3cc8a5eac9089d7b1807d29da4a1fefdf7448011379fde46d14c\n",
            "  Stored in directory: /root/.cache/pip/wheels/57/4e/e8/bb28d035162fb8f17f8ca5d42c3230e284c6aa565b42b72674\n",
            "Successfully built kaggle\n",
            "Installing collected packages: kaggle\n",
            "Successfully installed kaggle-1.5.6\n",
            "Kaggle API 1.5.6\n"
          ],
          "name": "stdout"
        }
      ]
    },
    {
      "cell_type": "code",
      "metadata": {
        "id": "AmjpMVyDRji7",
        "colab_type": "code",
        "outputId": "2ff5e2ae-02e3-4f91-e346-716ec367f29e",
        "colab": {
          "base_uri": "https://localhost:8080/",
          "height": 70
        }
      },
      "source": [
        "! kaggle competitions download -c 2019-ml-finalproject"
      ],
      "execution_count": 0,
      "outputs": [
        {
          "output_type": "stream",
          "text": [
            "Downloading 2019-ml-finalproject.zip to /content\n",
            " 75% 49.0M/65.0M [00:01<00:00, 30.7MB/s]\n",
            "100% 65.0M/65.0M [00:01<00:00, 55.2MB/s]\n"
          ],
          "name": "stdout"
        }
      ]
    },
    {
      "cell_type": "code",
      "metadata": {
        "id": "bQ6poMXIRwwq",
        "colab_type": "code",
        "colab": {}
      },
      "source": [
        "import zipfile\n",
        "import os\n",
        "\n",
        "os.mkdir('/content/input')\n",
        "\n",
        "zip_ref = zipfile.ZipFile(\"/content/2019-ml-finalproject.zip\", 'r')\n",
        "zip_ref.extractall(\"/content/input\")\n",
        "zip_ref.close()"
      ],
      "execution_count": 0,
      "outputs": []
    },
    {
      "cell_type": "markdown",
      "metadata": {
        "id": "Li7-RRs9Ryji",
        "colab_type": "text"
      },
      "source": [
        "# * opencv version changing"
      ]
    },
    {
      "cell_type": "code",
      "metadata": {
        "id": "rIIb3RmFRxja",
        "colab_type": "code",
        "outputId": "970cae51-6fb8-4e80-9717-0458176b9926",
        "colab": {
          "base_uri": "https://localhost:8080/",
          "height": 427
        }
      },
      "source": [
        "! yes | pip3 uninstall opencv-python\n",
        "! yes | pip3 uninstall opencv-contrib-python\n",
        "! yes | pip3 install opencv-python==3.4.2.16\n",
        "! yes | pip3 install opencv-contrib-python==3.4.2.16"
      ],
      "execution_count": 0,
      "outputs": [
        {
          "output_type": "stream",
          "text": [
            "Uninstalling opencv-python-4.1.2.30:\n",
            "  Would remove:\n",
            "    /usr/local/lib/python3.6/dist-packages/cv2/*\n",
            "    /usr/local/lib/python3.6/dist-packages/opencv_python-4.1.2.30.dist-info/*\n",
            "Proceed (y/n)?   Successfully uninstalled opencv-python-4.1.2.30\n",
            "Uninstalling opencv-contrib-python-4.1.2.30:\n",
            "  Would remove:\n",
            "    /usr/local/lib/python3.6/dist-packages/opencv_contrib_python-4.1.2.30.dist-info/*\n",
            "Proceed (y/n)?   Successfully uninstalled opencv-contrib-python-4.1.2.30\n",
            "Collecting opencv-python==3.4.2.16\n",
            "\u001b[?25l  Downloading https://files.pythonhosted.org/packages/fa/7d/5042b668a8ed41d2a80b8c172f5efcd572e3c046c75ae029407e19b7fc68/opencv_python-3.4.2.16-cp36-cp36m-manylinux1_x86_64.whl (25.0MB)\n",
            "\u001b[K     |████████████████████████████████| 25.0MB 90kB/s \n",
            "\u001b[?25hRequirement already satisfied: numpy>=1.11.3 in /usr/local/lib/python3.6/dist-packages (from opencv-python==3.4.2.16) (1.17.4)\n",
            "\u001b[31mERROR: albumentations 0.1.12 has requirement imgaug<0.2.7,>=0.2.5, but you'll have imgaug 0.2.9 which is incompatible.\u001b[0m\n",
            "Installing collected packages: opencv-python\n",
            "Successfully installed opencv-python-3.4.2.16\n",
            "Collecting opencv-contrib-python==3.4.2.16\n",
            "\u001b[?25l  Downloading https://files.pythonhosted.org/packages/08/f1/66330f4042c4fb3b2d77a159db8e8916d9cdecc29bc8c1f56bc7f8a9bec9/opencv_contrib_python-3.4.2.16-cp36-cp36m-manylinux1_x86_64.whl (30.6MB)\n",
            "\u001b[K     |████████████████████████████████| 30.6MB 82kB/s \n",
            "\u001b[?25hRequirement already satisfied: numpy>=1.11.3 in /usr/local/lib/python3.6/dist-packages (from opencv-contrib-python==3.4.2.16) (1.17.4)\n",
            "Installing collected packages: opencv-contrib-python\n",
            "Successfully installed opencv-contrib-python-3.4.2.16\n"
          ],
          "name": "stdout"
        }
      ]
    },
    {
      "cell_type": "markdown",
      "metadata": {
        "id": "2GUS7OAgR5Mf",
        "colab_type": "text"
      },
      "source": [
        "# * import library"
      ]
    },
    {
      "cell_type": "code",
      "metadata": {
        "id": "84275nckR9A_",
        "colab_type": "code",
        "colab": {}
      },
      "source": [
        "import pandas as pd\n",
        "import numpy as np\n",
        "import cv2\n",
        "import matplotlib.pyplot as plt\n",
        "import os\n",
        "import torch\n",
        "from PIL import Image\n",
        "from torch.utils.data import DataLoader, TensorDataset\n",
        "from sklearn.preprocessing import StandardScaler\n",
        "from tqdm import tqdm_notebook as tqdm\n",
        "\n",
        "import glob"
      ],
      "execution_count": 0,
      "outputs": []
    },
    {
      "cell_type": "code",
      "metadata": {
        "id": "PUBBEEB6SOAU",
        "colab_type": "code",
        "outputId": "bf3aedbf-10b9-4835-ab0c-87cd5e4eeca0",
        "colab": {
          "base_uri": "https://localhost:8080/",
          "height": 34
        }
      },
      "source": [
        "cv2.__version__"
      ],
      "execution_count": 0,
      "outputs": [
        {
          "output_type": "execute_result",
          "data": {
            "text/plain": [
              "'3.4.2'"
            ]
          },
          "metadata": {
            "tags": []
          },
          "execution_count": 6
        }
      ]
    },
    {
      "cell_type": "markdown",
      "metadata": {
        "id": "YrGA5nJVSlVz",
        "colab_type": "text"
      },
      "source": [
        "# * Feature Extraction\n",
        "- Dense Sift"
      ]
    },
    {
      "cell_type": "code",
      "metadata": {
        "id": "rPb0z9jVVMnz",
        "colab_type": "code",
        "colab": {}
      },
      "source": [
        "# label readying.\n",
        "df_data = pd.read_csv('/content/input/Label2Names.csv', header=None)"
      ],
      "execution_count": 0,
      "outputs": []
    },
    {
      "cell_type": "code",
      "metadata": {
        "id": "Ib_XGn16Sh0S",
        "colab_type": "code",
        "outputId": "4207033d-606b-4d09-8f32-c5aa650ec6ee",
        "colab": {
          "base_uri": "https://localhost:8080/",
          "height": 66,
          "referenced_widgets": [
            "a73e1f3d264e4561b9988c3c0cfe3c34",
            "872a78730bba4caab031cf6fc74b9d7d",
            "a7ebad8f43b64c22a0e4e46bd419fac4",
            "d06216bc037848f1a72eb3765b9c3a44",
            "f84617b13cf14502aefad010070994cb",
            "65181c7213b845ce8510c8856c03e1cf",
            "549985de5abb4891b21f812402279f62",
            "96e853949ae041b6a05ece8427b34921"
          ]
        }
      },
      "source": [
        "# train dense sift\n",
        "train_path = \"/content/input/train\"\n",
        "\n",
        "train_des = list()\n",
        "train_images = list()\n",
        "train_label = list()\n",
        "train_fea = list()\n",
        "\n",
        "dense = 16\n",
        "img_size = 256\n",
        "\n",
        "for cls in tqdm(os.listdir(train_path)):\n",
        "  img_list = os.listdir(train_path + '/' + cls)\n",
        "  img_list.sort()\n",
        "  if cls == 'BACKGROUND_Google':\n",
        "    label = 102\n",
        "  else :\n",
        "    label = (df_data.index[df_data[1]==cls] + 1).tolist()[0]\n",
        "\n",
        "  for img in img_list:\n",
        "\n",
        "    image = cv2.imread(train_path + '/' + cls + '/' + img)\n",
        "\n",
        "    gray = cv2.cvtColor(image,cv2.COLOR_BGR2GRAY)\n",
        "    gray = cv2.resize(gray, (img_size, img_size))\n",
        "    sift = cv2.xfeatures2d.SIFT_create()\n",
        "\n",
        "    kp = [cv2.KeyPoint(x, y, dense) for y in range(0, gray.shape[0]\n",
        "                                                   , dense) for x in range(0, gray.shape[1], dense)]\n",
        "    keypoint, des = sift.compute(gray, kp)\n",
        "\n",
        "    train_des.append(des)\n",
        "    train_fea.append(des)\n",
        "    train_images.append(gray)\n",
        "    train_label.append(label)"
      ],
      "execution_count": 0,
      "outputs": [
        {
          "output_type": "display_data",
          "data": {
            "application/vnd.jupyter.widget-view+json": {
              "model_id": "a73e1f3d264e4561b9988c3c0cfe3c34",
              "version_minor": 0,
              "version_major": 2
            },
            "text/plain": [
              "HBox(children=(IntProgress(value=0, max=102), HTML(value='')))"
            ]
          },
          "metadata": {
            "tags": []
          }
        },
        {
          "output_type": "stream",
          "text": [
            "\n"
          ],
          "name": "stdout"
        }
      ]
    },
    {
      "cell_type": "code",
      "metadata": {
        "id": "1NIRQ0ymXNnL",
        "colab_type": "code",
        "outputId": "829973ad-3e06-459d-8e85-641fb336d52d",
        "colab": {
          "base_uri": "https://localhost:8080/",
          "height": 66,
          "referenced_widgets": [
            "208835b82cf2460f8d62f5454692c94d",
            "bbcf51edaef94323b1ff7f03709a3b98",
            "6401d62988ff4bfc907650e50c792efa",
            "6cc511cc5b9744e18f7de55c92502a72",
            "131e8c815299483db6ccc205b2dccc5f",
            "c0c671c609cd42b6ac13256446c0959a",
            "21846b791f484764989489fd6dc2faa2",
            "901612be10684404aff2c654ebcd15ec"
          ]
        }
      },
      "source": [
        "# test dense sift\n",
        "test_path = \"/content/input/testAll_v2\"\n",
        "\n",
        "test_des = list()\n",
        "test_images = list()\n",
        "test_fea = list()\n",
        "\n",
        "dense = 16\n",
        "img_size = 256\n",
        "\n",
        "img_list = os.listdir(test_path)\n",
        "img_list.sort()\n",
        "\n",
        "for img in tqdm(img_list):\n",
        "  image = cv2.imread(test_path + '/' + img)\n",
        "\n",
        "  gray = cv2.cvtColor(image, cv2.COLOR_BGR2GRAY)\n",
        "  gray = cv2.resize(gray, (img_size, img_size))\n",
        "  sift = cv2.xfeatures2d.SIFT_create()\n",
        "\n",
        "  kp = [cv2.KeyPoint(x, y, dense) for y in range(0, gray.shape[0]\n",
        "                                                   , dense) for x in range(0, gray.shape[1], dense)]\n",
        "  keypoint, des = sift.compute(gray, kp)\n",
        "\n",
        "  \n",
        "  test_des.append(des)\n",
        "  test_images.append(gray)\n",
        "  test_fea.append(des)"
      ],
      "execution_count": 0,
      "outputs": [
        {
          "output_type": "display_data",
          "data": {
            "application/vnd.jupyter.widget-view+json": {
              "model_id": "208835b82cf2460f8d62f5454692c94d",
              "version_minor": 0,
              "version_major": 2
            },
            "text/plain": [
              "HBox(children=(IntProgress(value=0, max=1692), HTML(value='')))"
            ]
          },
          "metadata": {
            "tags": []
          }
        },
        {
          "output_type": "stream",
          "text": [
            "\n"
          ],
          "name": "stdout"
        }
      ]
    },
    {
      "cell_type": "code",
      "metadata": {
        "id": "8XfJD9L5mynS",
        "colab_type": "code",
        "colab": {}
      },
      "source": [
        "# import pickle\n",
        "\n",
        "# # Save pickle\n",
        "# with open(\"densetrain_des.pickle\", \"wb\") as f:\n",
        "#   pickle.dump(train_des, f)\n",
        "\n",
        "# with open(\"densetest_des.pickle\", \"wb\") as f:\n",
        "#   pickle.dump(test_des, f)\n"
      ],
      "execution_count": 0,
      "outputs": []
    },
    {
      "cell_type": "code",
      "metadata": {
        "id": "G33At0y2nIGT",
        "colab_type": "code",
        "colab": {}
      },
      "source": [
        "# with open(\"densetrain_des.pickle\", \"rb\") as r:\n",
        "#   read_data = pickle.load(r)\n",
        "\n",
        "# with open(\"densetest_des.pickle\", \"rb\") as r:\n",
        "#   read_data = pickle.load(r)"
      ],
      "execution_count": 0,
      "outputs": []
    },
    {
      "cell_type": "code",
      "metadata": {
        "id": "nGP7gH6MeEnu",
        "colab_type": "code",
        "outputId": "efa00868-2723-4f7f-c132-bb6d7873f28e",
        "colab": {
          "base_uri": "https://localhost:8080/",
          "height": 34
        }
      },
      "source": [
        "train_images = np.array(train_images)\n",
        "train_images.shape"
      ],
      "execution_count": 0,
      "outputs": [
        {
          "output_type": "execute_result",
          "data": {
            "text/plain": [
              "(3060, 256, 256)"
            ]
          },
          "metadata": {
            "tags": []
          },
          "execution_count": 10
        }
      ]
    },
    {
      "cell_type": "code",
      "metadata": {
        "id": "HCTtBklscmUc",
        "colab_type": "code",
        "outputId": "98756f1c-9e13-4d4a-8f23-ad66e8dae0f9",
        "colab": {
          "base_uri": "https://localhost:8080/",
          "height": 34
        }
      },
      "source": [
        "train_fea = np.array(train_fea)\n",
        "train_fea.shape"
      ],
      "execution_count": 0,
      "outputs": [
        {
          "output_type": "execute_result",
          "data": {
            "text/plain": [
              "(3060, 256, 128)"
            ]
          },
          "metadata": {
            "tags": []
          },
          "execution_count": 11
        }
      ]
    },
    {
      "cell_type": "markdown",
      "metadata": {
        "id": "7eJAyBObYkaK",
        "colab_type": "text"
      },
      "source": [
        "# * Checking the shape"
      ]
    },
    {
      "cell_type": "code",
      "metadata": {
        "id": "cySUMUAfYkCL",
        "colab_type": "code",
        "outputId": "8b12deee-8b32-4990-aa73-11ec6a00fdfd",
        "colab": {
          "base_uri": "https://localhost:8080/",
          "height": 34
        }
      },
      "source": [
        "train_des = np.array(train_des)\n",
        "train_des.shape"
      ],
      "execution_count": 0,
      "outputs": [
        {
          "output_type": "execute_result",
          "data": {
            "text/plain": [
              "(3060, 256, 128)"
            ]
          },
          "metadata": {
            "tags": []
          },
          "execution_count": 12
        }
      ]
    },
    {
      "cell_type": "code",
      "metadata": {
        "id": "vpn2NtCEZLfS",
        "colab_type": "code",
        "outputId": "4d0442eb-f10a-4826-c642-d24f52bad30b",
        "colab": {
          "base_uri": "https://localhost:8080/",
          "height": 34
        }
      },
      "source": [
        "test_des = np.array(test_des)\n",
        "test_des.shape"
      ],
      "execution_count": 0,
      "outputs": [
        {
          "output_type": "execute_result",
          "data": {
            "text/plain": [
              "(1692, 256, 128)"
            ]
          },
          "metadata": {
            "tags": []
          },
          "execution_count": 13
        }
      ]
    },
    {
      "cell_type": "code",
      "metadata": {
        "id": "mSTtQqEzZbmZ",
        "colab_type": "code",
        "outputId": "7081d54a-46d4-420b-cbe4-f07e4c382877",
        "colab": {
          "base_uri": "https://localhost:8080/",
          "height": 34
        }
      },
      "source": [
        "# for codebook histogram, reshape 1d, 128 dimensions\n",
        "\n",
        "train_des = train_des.reshape(-1,128)\n",
        "train_des.shape"
      ],
      "execution_count": 0,
      "outputs": [
        {
          "output_type": "execute_result",
          "data": {
            "text/plain": [
              "(783360, 128)"
            ]
          },
          "metadata": {
            "tags": []
          },
          "execution_count": 21
        }
      ]
    },
    {
      "cell_type": "code",
      "metadata": {
        "id": "R7FcRBUnZauK",
        "colab_type": "code",
        "outputId": "6a83aa4a-5d24-4ef7-de5c-c2620803cb1b",
        "colab": {
          "base_uri": "https://localhost:8080/",
          "height": 34
        }
      },
      "source": [
        "test_des = test_des.reshape(-1,128)\n",
        "test_des.shape"
      ],
      "execution_count": 0,
      "outputs": [
        {
          "output_type": "execute_result",
          "data": {
            "text/plain": [
              "(433152, 128)"
            ]
          },
          "metadata": {
            "tags": []
          },
          "execution_count": 22
        }
      ]
    },
    {
      "cell_type": "markdown",
      "metadata": {
        "id": "RmVc09L0Z-xa",
        "colab_type": "text"
      },
      "source": [
        "# * 0 depth.ver (Before SPM) >= 0.41 "
      ]
    },
    {
      "cell_type": "code",
      "metadata": {
        "id": "D_596DWza1xV",
        "colab_type": "code",
        "outputId": "1cab6e9d-e15a-431d-d0ac-6daf82d24627",
        "colab": {
          "base_uri": "https://localhost:8080/",
          "height": 338
        }
      },
      "source": [
        "# gpu kmeans install\n",
        "pip install kmc2"
      ],
      "execution_count": 0,
      "outputs": [
        {
          "output_type": "stream",
          "text": [
            "Collecting kmc2\n",
            "\u001b[?25l  Downloading https://files.pythonhosted.org/packages/b6/a2/42b2dd4fa0c425912c03222dd443f1d6aceed410a29467d1e5d8989c72f1/kmc2-0.1.tar.gz (102kB)\n",
            "\u001b[K     |████████████████████████████████| 102kB 3.6MB/s \n",
            "\u001b[?25hRequirement already satisfied: numpy in /usr/local/lib/python3.6/dist-packages (from kmc2) (1.17.4)\n",
            "Requirement already satisfied: scipy in /usr/local/lib/python3.6/dist-packages (from kmc2) (1.3.3)\n",
            "Requirement already satisfied: scikit-learn in /usr/local/lib/python3.6/dist-packages (from kmc2) (0.21.3)\n",
            "Collecting nose\n",
            "\u001b[?25l  Downloading https://files.pythonhosted.org/packages/15/d8/dd071918c040f50fa1cf80da16423af51ff8ce4a0f2399b7bf8de45ac3d9/nose-1.3.7-py3-none-any.whl (154kB)\n",
            "\u001b[K     |████████████████████████████████| 163kB 15.6MB/s \n",
            "\u001b[?25hRequirement already satisfied: joblib>=0.11 in /usr/local/lib/python3.6/dist-packages (from scikit-learn->kmc2) (0.14.0)\n",
            "Building wheels for collected packages: kmc2\n",
            "  Building wheel for kmc2 (setup.py) ... \u001b[?25l\u001b[?25hdone\n",
            "  Created wheel for kmc2: filename=kmc2-0.1-cp36-cp36m-linux_x86_64.whl size=252215 sha256=e85ed5574059c25d79bac9ba1de3b324421d85201536e3b110460be50f0ae8da\n",
            "  Stored in directory: /root/.cache/pip/wheels/5c/ba/f0/4c8b421be72d4f2d1a93233c2f6f591e7d8b0bda05a1f4616f\n",
            "Successfully built kmc2\n",
            "Installing collected packages: nose, kmc2\n",
            "Successfully installed kmc2-0.1 nose-1.3.7\n"
          ],
          "name": "stdout"
        }
      ]
    },
    {
      "cell_type": "code",
      "metadata": {
        "id": "ecNZpwjUa7Vx",
        "colab_type": "code",
        "colab": {}
      },
      "source": [
        "import kmc2\n",
        "import copy\n",
        "from sklearn.cluster import MiniBatchKMeans"
      ],
      "execution_count": 0,
      "outputs": []
    },
    {
      "cell_type": "code",
      "metadata": {
        "id": "7x2396rf0-0g",
        "colab_type": "code",
        "colab": {}
      },
      "source": [
        "# making set histograms\n",
        "\n",
        "def making_histograms(train_data, kmeans, k):\n",
        "  data_hist = []\n",
        "  for i in range(len(train_data)):\n",
        "    data = copy.deepcopy(train_data[i])\n",
        "    predict = kmeans.predict(data)\n",
        "    data_hist.append(np.bincount(predict, minlength = k).reshape(1,-1).ravel())\n",
        "    \n",
        "  return np.array(data_hist)"
      ],
      "execution_count": 0,
      "outputs": []
    },
    {
      "cell_type": "code",
      "metadata": {
        "id": "wlJC3NWt5EtY",
        "colab_type": "code",
        "colab": {}
      },
      "source": [
        "import math\n",
        "\n",
        "def extract_denseSIFT(img):\n",
        "  Step_size = 8\n",
        "  sift = cv2.xfeatures2d.SIFT_create()\n",
        "#compute dense\n",
        "  kp = [cv2.KeyPoint(x,y, Step_size) for y in range(0, img.shape[0], Step_size) for x in range(0, img.shape[1],Step_size)]\n",
        "  keypoint, des = sift.compute(img, kp)\n",
        "\n",
        "  return des\n",
        "\n",
        "\n",
        "# form histogram with Spatial Pyramid Matching upto level L with codebook kmeans and k codewords\n",
        "def getImageFeaturesSPM(L, img, kmeans, k):\n",
        "    W = img.shape[1]\n",
        "    H = img.shape[0]   \n",
        "    h = []\n",
        "    for l in range(L+1):\n",
        "        w_step = math.floor(W/(2**l))\n",
        "        h_step = math.floor(H/(2**l))\n",
        "        x, y = 0, 0\n",
        "        for i in range(1,2**l + 1):\n",
        "            x = 0\n",
        "            for j in range(1, 2**l + 1):                \n",
        "                desc = extract_denseSIFT(img[y:y+h_step, x:x+w_step])                \n",
        "                #print(\"type:\",desc is None, \"x:\",x,\"y:\",y, \"desc_size:\",desc is None)\n",
        "                predict = kmeans.predict(desc)\n",
        "                histo = np.bincount(predict, minlength=k).reshape(1,-1).ravel()\n",
        "                weight = 2**(l-L)\n",
        "                h.append(weight*histo)\n",
        "                x = x + w_step\n",
        "            y = y + h_step\n",
        "            \n",
        "    hist = np.array(h).ravel()\n",
        "    # normalize hist\n",
        "    dev = np.std(hist)\n",
        "    hist -= np.mean(hist)\n",
        "    hist /= dev\n",
        "    return hist\n",
        "\n",
        "\n",
        "# get histogram representation for training/testing data\n",
        "def getHistogramSPM(L, data, kmeans, k):    \n",
        "    x = []\n",
        "    for i in range (len(data)):        \n",
        "        hist = getImageFeaturesSPM(L, data[i], kmeans, k)        \n",
        "        x.append(hist)\n",
        "    return np.array(x)"
      ],
      "execution_count": 0,
      "outputs": []
    },
    {
      "cell_type": "code",
      "metadata": {
        "id": "bXBKNMq31rNr",
        "colab_type": "code",
        "outputId": "0de7f866-4dc7-4220-bdcf-1041ccf9f80a",
        "colab": {
          "base_uri": "https://localhost:8080/",
          "height": 72
        }
      },
      "source": [
        "#특징에 대한 클러스터링을 진행\n",
        "\n",
        "seeding = kmc2.kmc2(train_des, 200)\n",
        "kmeans = MiniBatchKMeans(200, init = seeding).fit(train_des)\n",
        "codebook = kmeans.cluster_centers_"
      ],
      "execution_count": 0,
      "outputs": [
        {
          "output_type": "stream",
          "text": [
            "/usr/local/lib/python3.6/dist-packages/ipykernel_launcher.py:3: RuntimeWarning: Explicit initial center position passed: performing only one init in MiniBatchKMeans instead of n_init=3\n",
            "  This is separate from the ipykernel package so we can avoid doing imports until\n"
          ],
          "name": "stderr"
        }
      ]
    },
    {
      "cell_type": "code",
      "metadata": {
        "id": "qwa4FWm8zw7q",
        "colab_type": "code",
        "outputId": "47c8baea-3263-46c3-84ca-9bb4e83109f4",
        "colab": {
          "base_uri": "https://localhost:8080/",
          "height": 34
        }
      },
      "source": [
        "train_images_n=np.array(train_images)\n",
        "train_images_n.shape"
      ],
      "execution_count": 0,
      "outputs": [
        {
          "output_type": "execute_result",
          "data": {
            "text/plain": [
              "(3060, 256, 256)"
            ]
          },
          "metadata": {
            "tags": []
          },
          "execution_count": 94
        }
      ]
    },
    {
      "cell_type": "code",
      "metadata": {
        "id": "xQDIqm3Gz29H",
        "colab_type": "code",
        "outputId": "083df14a-98da-407d-ddf3-3a5050b872a3",
        "colab": {
          "base_uri": "https://localhost:8080/",
          "height": 34
        }
      },
      "source": [
        "test_images_n = np.array(test_images)\n",
        "test_images_n.shape"
      ],
      "execution_count": 0,
      "outputs": [
        {
          "output_type": "execute_result",
          "data": {
            "text/plain": [
              "(1692, 256, 256)"
            ]
          },
          "metadata": {
            "tags": []
          },
          "execution_count": 73
        }
      ]
    },
    {
      "cell_type": "code",
      "metadata": {
        "id": "siFuRg-7QBR6",
        "colab_type": "code",
        "colab": {}
      },
      "source": [
        "# 한번더 뿌려서 clustering 시켜서 codebook 생성\n",
        "train_hist = getHistogramSPM(2,train_images_n, kmeans, 200)"
      ],
      "execution_count": 0,
      "outputs": []
    },
    {
      "cell_type": "code",
      "metadata": {
        "id": "YH7ifFWo1bjs",
        "colab_type": "code",
        "colab": {}
      },
      "source": [
        "test_hist = getHistogramSPM(2, test_images_n, kmeans, 200)"
      ],
      "execution_count": 0,
      "outputs": []
    },
    {
      "cell_type": "code",
      "metadata": {
        "id": "Z77DdMMEEj02",
        "colab_type": "code",
        "colab": {}
      },
      "source": [
        "# from sklearn.preprocessing import StandardScaler\n",
        "# train_scaler = StandardScaler().fit(train_hist)\n",
        "# train_histo = train_scaler.transform(train_hist)\n",
        "\n",
        "# test_histo = train_scaler.transform(test_hist)"
      ],
      "execution_count": 0,
      "outputs": []
    },
    {
      "cell_type": "code",
      "metadata": {
        "id": "9MeUmfJloJOg",
        "colab_type": "code",
        "outputId": "36a75a9e-26b7-496a-8aa1-e3fe1edfbd45",
        "colab": {
          "base_uri": "https://localhost:8080/",
          "height": 34
        }
      },
      "source": [
        "train_hist.shape"
      ],
      "execution_count": 0,
      "outputs": [
        {
          "output_type": "execute_result",
          "data": {
            "text/plain": [
              "(3060, 4200)"
            ]
          },
          "metadata": {
            "tags": []
          },
          "execution_count": 112
        }
      ]
    },
    {
      "cell_type": "code",
      "metadata": {
        "id": "snh1TWfHnrk7",
        "colab_type": "code",
        "outputId": "5400482a-a2b2-4c59-9067-4513cff03ad7",
        "colab": {
          "base_uri": "https://localhost:8080/",
          "height": 34
        }
      },
      "source": [
        "test_hist.shape"
      ],
      "execution_count": 0,
      "outputs": [
        {
          "output_type": "execute_result",
          "data": {
            "text/plain": [
              "(1692, 4200)"
            ]
          },
          "metadata": {
            "tags": []
          },
          "execution_count": 113
        }
      ]
    },
    {
      "cell_type": "code",
      "metadata": {
        "id": "4wjt0Ij537ou",
        "colab_type": "code",
        "colab": {}
      },
      "source": [
        "# spm kernel\n",
        "\n",
        "def histogramIntersection(M,N):\n",
        "  m = M.shape[0]\n",
        "  n = N.shape[0]\n",
        "  result = np.zeros ((m,n))\n",
        "  for i in range(m):\n",
        "    for j in range(n):\n",
        "      temp = np.sum(np.minimum(M[i],N[j]))\n",
        "      result[i][j] = temp\n",
        "  return result"
      ],
      "execution_count": 0,
      "outputs": []
    },
    {
      "cell_type": "code",
      "metadata": {
        "id": "Qv5XT_7Ids8U",
        "colab_type": "code",
        "colab": {}
      },
      "source": [
        "from sklearn.svm import SVC\n",
        "from sklearn.decomposition import PCA as RandomizedPCA\n",
        "\n",
        "from sklearn.pipeline import make_pipeline"
      ],
      "execution_count": 0,
      "outputs": []
    },
    {
      "cell_type": "code",
      "metadata": {
        "id": "1myMbSSxchtc",
        "colab_type": "code",
        "colab": {}
      },
      "source": [
        "gramMatrix = histogramIntersection(train_hist,train_hist)\n",
        "# clf = SVC(kernel='precomputed')\n",
        "# clf.fit(gramMatrix, train_label)\n",
        "\n",
        "predictMatrix = histogramIntersection(test_hist,train_hist)\n",
        "# SVMresults = clf.predict(predictMatrix)"
      ],
      "execution_count": 0,
      "outputs": []
    },
    {
      "cell_type": "code",
      "metadata": {
        "id": "btXQqCb8KQZ7",
        "colab_type": "code",
        "outputId": "3d506f2a-a1e4-4b52-d0d4-3ed90f1e82c4",
        "colab": {
          "base_uri": "https://localhost:8080/",
          "height": 34
        }
      },
      "source": [
        "gramMatrix.shape"
      ],
      "execution_count": 0,
      "outputs": [
        {
          "output_type": "execute_result",
          "data": {
            "text/plain": [
              "(3060, 3060)"
            ]
          },
          "metadata": {
            "tags": []
          },
          "execution_count": 129
        }
      ]
    },
    {
      "cell_type": "code",
      "metadata": {
        "id": "YlMQJpdwL5Y6",
        "colab_type": "code",
        "outputId": "547cdb5e-2451-4bac-8757-db73880aa91c",
        "colab": {
          "base_uri": "https://localhost:8080/",
          "height": 34
        }
      },
      "source": [
        "predictMatrix.shape"
      ],
      "execution_count": 0,
      "outputs": [
        {
          "output_type": "execute_result",
          "data": {
            "text/plain": [
              "(1692, 3060)"
            ]
          },
          "metadata": {
            "tags": []
          },
          "execution_count": 157
        }
      ]
    },
    {
      "cell_type": "code",
      "metadata": {
        "id": "74wSs1eKHnjV",
        "colab_type": "code",
        "outputId": "5c9d680c-9768-4e9d-d0d8-e0bf9707dc1a",
        "colab": {
          "base_uri": "https://localhost:8080/",
          "height": 125
        }
      },
      "source": [
        "from sklearn.model_selection import GridSearchCV\n",
        "\n",
        "param_grid = {'C': [0.001,0.005,0.01, 0.05, 0.1],\n",
        "              'gamma': [0.00001, 0.0001, 0.0005, 0.001, 0.005]}\n",
        "grid = GridSearchCV(SVC(kernel='precomputed'), param_grid)\n",
        "\n",
        "%time grid.fit(gramMatrix,train_label)\n",
        "print(grid.best_params_)"
      ],
      "execution_count": 0,
      "outputs": [
        {
          "output_type": "stream",
          "text": [
            "/usr/local/lib/python3.6/dist-packages/sklearn/model_selection/_split.py:1978: FutureWarning: The default value of cv will change from 3 to 5 in version 0.22. Specify it explicitly to silence this warning.\n",
            "  warnings.warn(CV_WARNING, FutureWarning)\n"
          ],
          "name": "stderr"
        },
        {
          "output_type": "stream",
          "text": [
            "CPU times: user 46.1 s, sys: 52.9 ms, total: 46.1 s\n",
            "Wall time: 46.1 s\n",
            "{'C': 0.005, 'gamma': 1e-05}\n"
          ],
          "name": "stdout"
        }
      ]
    },
    {
      "cell_type": "code",
      "metadata": {
        "id": "pmzBbi2HJEOp",
        "colab_type": "code",
        "colab": {}
      },
      "source": [
        "SVMresults=grid.predict(predictMatrix)"
      ],
      "execution_count": 0,
      "outputs": []
    },
    {
      "cell_type": "code",
      "metadata": {
        "id": "5AH3YUHcfBbv",
        "colab_type": "code",
        "outputId": "6df23dd4-3a8f-4fc9-feca-659e20d32dde",
        "colab": {
          "base_uri": "https://localhost:8080/",
          "height": 34
        }
      },
      "source": [
        "SVMresults.shape"
      ],
      "execution_count": 0,
      "outputs": [
        {
          "output_type": "execute_result",
          "data": {
            "text/plain": [
              "(1692,)"
            ]
          },
          "metadata": {
            "tags": []
          },
          "execution_count": 170
        }
      ]
    },
    {
      "cell_type": "code",
      "metadata": {
        "id": "9xIpj1hRgcM7",
        "colab_type": "code",
        "colab": {}
      },
      "source": [
        "img_list = os.listdir(\"/content/input/testAll_v2\")\n",
        "img_list.sort()"
      ],
      "execution_count": 0,
      "outputs": []
    },
    {
      "cell_type": "code",
      "metadata": {
        "id": "8Itr4r8Cggc4",
        "colab_type": "code",
        "colab": {}
      },
      "source": [
        "yfit = SVMresults.reshape(-1,1)\n",
        "result_img_list = np.array(img_list).reshape(-1,1)\n",
        "total_result = np.hstack([result_img_list,yfit])"
      ],
      "execution_count": 0,
      "outputs": []
    },
    {
      "cell_type": "code",
      "metadata": {
        "id": "vI3T8sWzghxh",
        "colab_type": "code",
        "colab": {}
      },
      "source": [
        "df = pd.DataFrame(total_result, columns=[\"Id\",\"Category\"])\n",
        "df.to_csv('results-yongho-v3.csv',index=False, header=True)"
      ],
      "execution_count": 0,
      "outputs": []
    },
    {
      "cell_type": "code",
      "metadata": {
        "id": "0kP4anHZgjhe",
        "colab_type": "code",
        "outputId": "b33092ae-8544-4bbb-9a2e-8c9c35d2bc54",
        "colab": {
          "base_uri": "https://localhost:8080/",
          "height": 52
        }
      },
      "source": [
        "! kaggle competitions submit -c 2019-ml-finalproject -f results-yongho-v3.csv -m \"Final_Term_Project\""
      ],
      "execution_count": 0,
      "outputs": [
        {
          "output_type": "stream",
          "text": [
            "100% 29.6k/29.6k [00:03<00:00, 8.37kB/s]\n",
            "Successfully submitted to 2019.Fall.PatternRecognition "
          ],
          "name": "stdout"
        }
      ]
    }
  ]
}