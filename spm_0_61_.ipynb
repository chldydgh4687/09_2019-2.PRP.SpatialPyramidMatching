{
  "nbformat": 4,
  "nbformat_minor": 0,
  "metadata": {
    "colab": {
      "name": "spm_0.61_.ipynb",
      "provenance": [],
      "collapsed_sections": [],
      "toc_visible": true
    },
    "kernelspec": {
      "name": "python3",
      "display_name": "Python 3"
    },
    "widgets": {
      "application/vnd.jupyter.widget-state+json": {
        "a632ab3c794c46c3b7fb094a795f0824": {
          "model_module": "@jupyter-widgets/controls",
          "model_name": "HBoxModel",
          "state": {
            "_view_name": "HBoxView",
            "_dom_classes": [],
            "_model_name": "HBoxModel",
            "_view_module": "@jupyter-widgets/controls",
            "_model_module_version": "1.5.0",
            "_view_count": null,
            "_view_module_version": "1.5.0",
            "box_style": "",
            "layout": "IPY_MODEL_0d3b017088da48fbb969fb93dd488d42",
            "_model_module": "@jupyter-widgets/controls",
            "children": [
              "IPY_MODEL_943ce946baec4e25b9e878980bdcddba",
              "IPY_MODEL_805d7f6c1fda41408c7510e80d926298"
            ]
          }
        },
        "0d3b017088da48fbb969fb93dd488d42": {
          "model_module": "@jupyter-widgets/base",
          "model_name": "LayoutModel",
          "state": {
            "_view_name": "LayoutView",
            "grid_template_rows": null,
            "right": null,
            "justify_content": null,
            "_view_module": "@jupyter-widgets/base",
            "overflow": null,
            "_model_module_version": "1.2.0",
            "_view_count": null,
            "flex_flow": null,
            "width": null,
            "min_width": null,
            "border": null,
            "align_items": null,
            "bottom": null,
            "_model_module": "@jupyter-widgets/base",
            "top": null,
            "grid_column": null,
            "overflow_y": null,
            "overflow_x": null,
            "grid_auto_flow": null,
            "grid_area": null,
            "grid_template_columns": null,
            "flex": null,
            "_model_name": "LayoutModel",
            "justify_items": null,
            "grid_row": null,
            "max_height": null,
            "align_content": null,
            "visibility": null,
            "align_self": null,
            "height": null,
            "min_height": null,
            "padding": null,
            "grid_auto_rows": null,
            "grid_gap": null,
            "max_width": null,
            "order": null,
            "_view_module_version": "1.2.0",
            "grid_template_areas": null,
            "object_position": null,
            "object_fit": null,
            "grid_auto_columns": null,
            "margin": null,
            "display": null,
            "left": null
          }
        },
        "943ce946baec4e25b9e878980bdcddba": {
          "model_module": "@jupyter-widgets/controls",
          "model_name": "IntProgressModel",
          "state": {
            "_view_name": "ProgressView",
            "style": "IPY_MODEL_1e29575b825447fd9dac56d7da0d41df",
            "_dom_classes": [],
            "description": "",
            "_model_name": "IntProgressModel",
            "bar_style": "",
            "max": 102,
            "_view_module": "@jupyter-widgets/controls",
            "_model_module_version": "1.5.0",
            "value": 24,
            "_view_count": null,
            "_view_module_version": "1.5.0",
            "orientation": "horizontal",
            "min": 0,
            "description_tooltip": null,
            "_model_module": "@jupyter-widgets/controls",
            "layout": "IPY_MODEL_9200d304b8b149f8bf37dd9613f6dcd2"
          }
        },
        "805d7f6c1fda41408c7510e80d926298": {
          "model_module": "@jupyter-widgets/controls",
          "model_name": "HTMLModel",
          "state": {
            "_view_name": "HTMLView",
            "style": "IPY_MODEL_5a3d453848364954b933db9ec9bded9f",
            "_dom_classes": [],
            "description": "",
            "_model_name": "HTMLModel",
            "placeholder": "​",
            "_view_module": "@jupyter-widgets/controls",
            "_model_module_version": "1.5.0",
            "value": " 24% 24/102 [01:12&lt;03:55,  3.02s/it]",
            "_view_count": null,
            "_view_module_version": "1.5.0",
            "description_tooltip": null,
            "_model_module": "@jupyter-widgets/controls",
            "layout": "IPY_MODEL_1016f5cd92e84e52808e5822051edcd2"
          }
        },
        "1e29575b825447fd9dac56d7da0d41df": {
          "model_module": "@jupyter-widgets/controls",
          "model_name": "ProgressStyleModel",
          "state": {
            "_view_name": "StyleView",
            "_model_name": "ProgressStyleModel",
            "description_width": "",
            "_view_module": "@jupyter-widgets/base",
            "_model_module_version": "1.5.0",
            "_view_count": null,
            "_view_module_version": "1.2.0",
            "bar_color": null,
            "_model_module": "@jupyter-widgets/controls"
          }
        },
        "9200d304b8b149f8bf37dd9613f6dcd2": {
          "model_module": "@jupyter-widgets/base",
          "model_name": "LayoutModel",
          "state": {
            "_view_name": "LayoutView",
            "grid_template_rows": null,
            "right": null,
            "justify_content": null,
            "_view_module": "@jupyter-widgets/base",
            "overflow": null,
            "_model_module_version": "1.2.0",
            "_view_count": null,
            "flex_flow": null,
            "width": null,
            "min_width": null,
            "border": null,
            "align_items": null,
            "bottom": null,
            "_model_module": "@jupyter-widgets/base",
            "top": null,
            "grid_column": null,
            "overflow_y": null,
            "overflow_x": null,
            "grid_auto_flow": null,
            "grid_area": null,
            "grid_template_columns": null,
            "flex": null,
            "_model_name": "LayoutModel",
            "justify_items": null,
            "grid_row": null,
            "max_height": null,
            "align_content": null,
            "visibility": null,
            "align_self": null,
            "height": null,
            "min_height": null,
            "padding": null,
            "grid_auto_rows": null,
            "grid_gap": null,
            "max_width": null,
            "order": null,
            "_view_module_version": "1.2.0",
            "grid_template_areas": null,
            "object_position": null,
            "object_fit": null,
            "grid_auto_columns": null,
            "margin": null,
            "display": null,
            "left": null
          }
        },
        "5a3d453848364954b933db9ec9bded9f": {
          "model_module": "@jupyter-widgets/controls",
          "model_name": "DescriptionStyleModel",
          "state": {
            "_view_name": "StyleView",
            "_model_name": "DescriptionStyleModel",
            "description_width": "",
            "_view_module": "@jupyter-widgets/base",
            "_model_module_version": "1.5.0",
            "_view_count": null,
            "_view_module_version": "1.2.0",
            "_model_module": "@jupyter-widgets/controls"
          }
        },
        "1016f5cd92e84e52808e5822051edcd2": {
          "model_module": "@jupyter-widgets/base",
          "model_name": "LayoutModel",
          "state": {
            "_view_name": "LayoutView",
            "grid_template_rows": null,
            "right": null,
            "justify_content": null,
            "_view_module": "@jupyter-widgets/base",
            "overflow": null,
            "_model_module_version": "1.2.0",
            "_view_count": null,
            "flex_flow": null,
            "width": null,
            "min_width": null,
            "border": null,
            "align_items": null,
            "bottom": null,
            "_model_module": "@jupyter-widgets/base",
            "top": null,
            "grid_column": null,
            "overflow_y": null,
            "overflow_x": null,
            "grid_auto_flow": null,
            "grid_area": null,
            "grid_template_columns": null,
            "flex": null,
            "_model_name": "LayoutModel",
            "justify_items": null,
            "grid_row": null,
            "max_height": null,
            "align_content": null,
            "visibility": null,
            "align_self": null,
            "height": null,
            "min_height": null,
            "padding": null,
            "grid_auto_rows": null,
            "grid_gap": null,
            "max_width": null,
            "order": null,
            "_view_module_version": "1.2.0",
            "grid_template_areas": null,
            "object_position": null,
            "object_fit": null,
            "grid_auto_columns": null,
            "margin": null,
            "display": null,
            "left": null
          }
        }
      }
    }
  },
  "cells": [
    {
      "cell_type": "markdown",
      "metadata": {
        "id": "HxZrJWgXRkUg",
        "colab_type": "text"
      },
      "source": [
        "# * Kaggle Connecting"
      ]
    },
    {
      "cell_type": "code",
      "metadata": {
        "id": "tPFmSQqzUgtG",
        "colab_type": "code",
        "outputId": "8daa2559-c709-421f-9153-af61150dcee9",
        "colab": {
          "base_uri": "https://localhost:8080/",
          "height": 481
        }
      },
      "source": [
        "!ls -lha kaggle.json\n",
        "\n",
        "!pip uninstall -y kaggle\n",
        "!pip install --upgrade pip\n",
        "!pip install kaggle==1.5.6\n",
        "\n",
        "\n",
        "# 캐글연동을 위한 토큰 입력\n",
        "! mkdir -p ~/.kaggle\n",
        "! cp kaggle.json ~/.kaggle/\n",
        "! chmod 600 ~/.kaggle/kaggle.json\n",
        "\n",
        "\n",
        "# 버전이 1.5.6 이 아니면, 진행할 수 없다\n",
        "! kaggle -v"
      ],
      "execution_count": 0,
      "outputs": [
        {
          "output_type": "stream",
          "text": [
            "-rw-r--r-- 1 root root 66 Dec 14 08:51 kaggle.json\n",
            "Uninstalling kaggle-1.5.6:\n",
            "  Successfully uninstalled kaggle-1.5.6\n",
            "Requirement already up-to-date: pip in /usr/local/lib/python3.6/dist-packages (19.3.1)\n",
            "Collecting kaggle==1.5.6\n",
            "\u001b[?25l  Downloading https://files.pythonhosted.org/packages/62/ab/bb20f9b9e24f9a6250f95a432f8d9a7d745f8d24039d7a5a6eaadb7783ba/kaggle-1.5.6.tar.gz (58kB)\n",
            "\u001b[K     |████████████████████████████████| 61kB 1.8MB/s \n",
            "\u001b[?25hRequirement already satisfied: urllib3<1.25,>=1.21.1 in /usr/local/lib/python3.6/dist-packages (from kaggle==1.5.6) (1.24.3)\n",
            "Requirement already satisfied: six>=1.10 in /usr/local/lib/python3.6/dist-packages (from kaggle==1.5.6) (1.12.0)\n",
            "Requirement already satisfied: certifi in /usr/local/lib/python3.6/dist-packages (from kaggle==1.5.6) (2019.11.28)\n",
            "Requirement already satisfied: python-dateutil in /usr/local/lib/python3.6/dist-packages (from kaggle==1.5.6) (2.6.1)\n",
            "Requirement already satisfied: requests in /usr/local/lib/python3.6/dist-packages (from kaggle==1.5.6) (2.21.0)\n",
            "Requirement already satisfied: tqdm in /usr/local/lib/python3.6/dist-packages (from kaggle==1.5.6) (4.28.1)\n",
            "Requirement already satisfied: python-slugify in /usr/local/lib/python3.6/dist-packages (from kaggle==1.5.6) (4.0.0)\n",
            "Requirement already satisfied: chardet<3.1.0,>=3.0.2 in /usr/local/lib/python3.6/dist-packages (from requests->kaggle==1.5.6) (3.0.4)\n",
            "Requirement already satisfied: idna<2.9,>=2.5 in /usr/local/lib/python3.6/dist-packages (from requests->kaggle==1.5.6) (2.8)\n",
            "Requirement already satisfied: text-unidecode>=1.3 in /usr/local/lib/python3.6/dist-packages (from python-slugify->kaggle==1.5.6) (1.3)\n",
            "Building wheels for collected packages: kaggle\n",
            "  Building wheel for kaggle (setup.py) ... \u001b[?25l\u001b[?25hdone\n",
            "  Created wheel for kaggle: filename=kaggle-1.5.6-cp36-none-any.whl size=72859 sha256=673b96fe57df09c18d9aea6a902686ff8070be8ef3f773578ff52f5aa3512bce\n",
            "  Stored in directory: /root/.cache/pip/wheels/57/4e/e8/bb28d035162fb8f17f8ca5d42c3230e284c6aa565b42b72674\n",
            "Successfully built kaggle\n",
            "Installing collected packages: kaggle\n",
            "Successfully installed kaggle-1.5.6\n",
            "Kaggle API 1.5.6\n"
          ],
          "name": "stdout"
        }
      ]
    },
    {
      "cell_type": "code",
      "metadata": {
        "id": "AmjpMVyDRji7",
        "colab_type": "code",
        "outputId": "60e70b2e-f051-49c3-9360-a4e6149353ae",
        "colab": {
          "base_uri": "https://localhost:8080/",
          "height": 70
        }
      },
      "source": [
        "! kaggle competitions download -c 2019-ml-finalproject"
      ],
      "execution_count": 0,
      "outputs": [
        {
          "output_type": "stream",
          "text": [
            "Downloading 2019-ml-finalproject.zip to /content\n",
            " 75% 49.0M/65.0M [00:00<00:00, 88.2MB/s]\n",
            "100% 65.0M/65.0M [00:00<00:00, 126MB/s] \n"
          ],
          "name": "stdout"
        }
      ]
    },
    {
      "cell_type": "code",
      "metadata": {
        "id": "bQ6poMXIRwwq",
        "colab_type": "code",
        "colab": {}
      },
      "source": [
        "import zipfile\n",
        "import os\n",
        "\n",
        "os.mkdir('/content/input')\n",
        "\n",
        "zip_ref = zipfile.ZipFile(\"/content/2019-ml-finalproject.zip\", 'r')\n",
        "zip_ref.extractall(\"/content/input\")\n",
        "zip_ref.close()"
      ],
      "execution_count": 0,
      "outputs": []
    },
    {
      "cell_type": "markdown",
      "metadata": {
        "id": "Li7-RRs9Ryji",
        "colab_type": "text"
      },
      "source": [
        "# * opencv version changing"
      ]
    },
    {
      "cell_type": "code",
      "metadata": {
        "id": "rIIb3RmFRxja",
        "colab_type": "code",
        "outputId": "735c561f-f07d-4be2-8e0a-c36d1825598b",
        "colab": {
          "base_uri": "https://localhost:8080/",
          "height": 427
        }
      },
      "source": [
        "! yes | pip3 uninstall opencv-python\n",
        "! yes | pip3 uninstall opencv-contrib-python\n",
        "! yes | pip3 install opencv-python==3.4.2.16\n",
        "! yes | pip3 install opencv-contrib-python==3.4.2.16"
      ],
      "execution_count": 0,
      "outputs": [
        {
          "output_type": "stream",
          "text": [
            "Uninstalling opencv-python-4.1.2.30:\n",
            "  Would remove:\n",
            "    /usr/local/lib/python3.6/dist-packages/cv2/*\n",
            "    /usr/local/lib/python3.6/dist-packages/opencv_python-4.1.2.30.dist-info/*\n",
            "Proceed (y/n)?   Successfully uninstalled opencv-python-4.1.2.30\n",
            "Uninstalling opencv-contrib-python-4.1.2.30:\n",
            "  Would remove:\n",
            "    /usr/local/lib/python3.6/dist-packages/opencv_contrib_python-4.1.2.30.dist-info/*\n",
            "Proceed (y/n)?   Successfully uninstalled opencv-contrib-python-4.1.2.30\n",
            "Collecting opencv-python==3.4.2.16\n",
            "\u001b[?25l  Downloading https://files.pythonhosted.org/packages/fa/7d/5042b668a8ed41d2a80b8c172f5efcd572e3c046c75ae029407e19b7fc68/opencv_python-3.4.2.16-cp36-cp36m-manylinux1_x86_64.whl (25.0MB)\n",
            "\u001b[K     |████████████████████████████████| 25.0MB 94kB/s \n",
            "\u001b[?25hRequirement already satisfied: numpy>=1.11.3 in /usr/local/lib/python3.6/dist-packages (from opencv-python==3.4.2.16) (1.17.4)\n",
            "\u001b[31mERROR: albumentations 0.1.12 has requirement imgaug<0.2.7,>=0.2.5, but you'll have imgaug 0.2.9 which is incompatible.\u001b[0m\n",
            "Installing collected packages: opencv-python\n",
            "Successfully installed opencv-python-3.4.2.16\n",
            "Collecting opencv-contrib-python==3.4.2.16\n",
            "\u001b[?25l  Downloading https://files.pythonhosted.org/packages/08/f1/66330f4042c4fb3b2d77a159db8e8916d9cdecc29bc8c1f56bc7f8a9bec9/opencv_contrib_python-3.4.2.16-cp36-cp36m-manylinux1_x86_64.whl (30.6MB)\n",
            "\u001b[K     |████████████████████████████████| 30.6MB 77kB/s \n",
            "\u001b[?25hRequirement already satisfied: numpy>=1.11.3 in /usr/local/lib/python3.6/dist-packages (from opencv-contrib-python==3.4.2.16) (1.17.4)\n",
            "Installing collected packages: opencv-contrib-python\n",
            "Successfully installed opencv-contrib-python-3.4.2.16\n"
          ],
          "name": "stdout"
        }
      ]
    },
    {
      "cell_type": "markdown",
      "metadata": {
        "id": "2GUS7OAgR5Mf",
        "colab_type": "text"
      },
      "source": [
        "# * import library"
      ]
    },
    {
      "cell_type": "code",
      "metadata": {
        "id": "84275nckR9A_",
        "colab_type": "code",
        "colab": {}
      },
      "source": [
        "import pandas as pd\n",
        "import numpy as np\n",
        "import cv2\n",
        "import matplotlib.pyplot as plt\n",
        "import os\n",
        "import torch\n",
        "from PIL import Image\n",
        "from torch.utils.data import DataLoader, TensorDataset\n",
        "from sklearn.preprocessing import StandardScaler\n",
        "from tqdm import tqdm_notebook as tqdm\n",
        "\n",
        "import glob"
      ],
      "execution_count": 0,
      "outputs": []
    },
    {
      "cell_type": "code",
      "metadata": {
        "id": "PUBBEEB6SOAU",
        "colab_type": "code",
        "outputId": "95c3b7a0-a5f5-4972-dcb4-8b4d316e295d",
        "colab": {
          "base_uri": "https://localhost:8080/",
          "height": 34
        }
      },
      "source": [
        "cv2.__version__"
      ],
      "execution_count": 0,
      "outputs": [
        {
          "output_type": "execute_result",
          "data": {
            "text/plain": [
              "'3.4.2'"
            ]
          },
          "metadata": {
            "tags": []
          },
          "execution_count": 6
        }
      ]
    },
    {
      "cell_type": "markdown",
      "metadata": {
        "id": "YrGA5nJVSlVz",
        "colab_type": "text"
      },
      "source": [
        "# * Feature Extraction\n",
        "- Dense Sift"
      ]
    },
    {
      "cell_type": "code",
      "metadata": {
        "id": "rPb0z9jVVMnz",
        "colab_type": "code",
        "colab": {}
      },
      "source": [
        "# label readying.\n",
        "df_data = pd.read_csv('/content/input/Label2Names.csv', header=None)"
      ],
      "execution_count": 0,
      "outputs": []
    },
    {
      "cell_type": "code",
      "metadata": {
        "id": "Ib_XGn16Sh0S",
        "colab_type": "code",
        "outputId": "e8b2669b-73e5-4de7-cc7b-88dbaf10cb32",
        "colab": {
          "base_uri": "https://localhost:8080/",
          "height": 48,
          "referenced_widgets": [
            "a632ab3c794c46c3b7fb094a795f0824",
            "0d3b017088da48fbb969fb93dd488d42",
            "943ce946baec4e25b9e878980bdcddba",
            "805d7f6c1fda41408c7510e80d926298",
            "1e29575b825447fd9dac56d7da0d41df",
            "9200d304b8b149f8bf37dd9613f6dcd2",
            "5a3d453848364954b933db9ec9bded9f",
            "1016f5cd92e84e52808e5822051edcd2"
          ]
        }
      },
      "source": [
        "# train dense sift\n",
        "train_path = \"/content/input/train\"\n",
        "\n",
        "train_des = list()\n",
        "train_images = list()\n",
        "train_label = list()\n",
        "train_fea = list()\n",
        "\n",
        "dense = 8\n",
        "img_size = 256\n",
        "\n",
        "for cls in tqdm(os.listdir(train_path)):\n",
        "  img_list = os.listdir(train_path + '/' + cls)\n",
        "  img_list.sort()\n",
        "  if cls == 'BACKGROUND_Google':\n",
        "    label = 102\n",
        "    #continue\n",
        "  else :\n",
        "    label = (df_data.index[df_data[1]==cls] + 1).tolist()[0]\n",
        "\n",
        "  for img in img_list:\n",
        "\n",
        "    image = cv2.imread(train_path + '/' + cls + '/' + img)\n",
        "\n",
        "    gray = cv2.cvtColor(image,cv2.COLOR_BGR2GRAY)\n",
        "    gray = cv2.resize(gray, (img_size, img_size))\n",
        "    sift = cv2.xfeatures2d.SIFT_create()\n",
        "\n",
        "    kp = [cv2.KeyPoint(x, y, dense) for y in range(0, gray.shape[0]\n",
        "                                                   , dense) for x in range(0, gray.shape[1], dense)]\n",
        "    keypoint, des = sift.compute(gray, kp)\n",
        "\n",
        "    train_des.append(des)\n",
        "    train_fea.append(des)\n",
        "    train_images.append(gray)\n",
        "    train_label.append(label)"
      ],
      "execution_count": 0,
      "outputs": [
        {
          "output_type": "display_data",
          "data": {
            "application/vnd.jupyter.widget-view+json": {
              "model_id": "a632ab3c794c46c3b7fb094a795f0824",
              "version_minor": 0,
              "version_major": 2
            },
            "text/plain": [
              "HBox(children=(IntProgress(value=0, max=102), HTML(value='')))"
            ]
          },
          "metadata": {
            "tags": []
          }
        }
      ]
    },
    {
      "cell_type": "code",
      "metadata": {
        "id": "1NIRQ0ymXNnL",
        "colab_type": "code",
        "colab": {}
      },
      "source": [
        "# test dense sift\n",
        "test_path = \"/content/input/testAll_v2\"\n",
        "\n",
        "test_des = list()\n",
        "test_images = list()\n",
        "test_fea = list()\n",
        "\n",
        "dense = 8\n",
        "img_size = 256\n",
        "\n",
        "img_list = os.listdir(test_path)\n",
        "img_list.sort()\n",
        "\n",
        "for img in tqdm(img_list):\n",
        "  image = cv2.imread(test_path + '/' + img)\n",
        "\n",
        "  gray = cv2.cvtColor(image, cv2.COLOR_BGR2GRAY)\n",
        "  gray = cv2.resize(gray, (img_size, img_size))\n",
        "  sift = cv2.xfeatures2d.SIFT_create()\n",
        "\n",
        "  kp = [cv2.KeyPoint(x, y, dense) for y in range(0, gray.shape[0]\n",
        "                                                   , dense) for x in range(0, gray.shape[1], dense)]\n",
        "  keypoint, des = sift.compute(gray, kp)\n",
        "  \n",
        "  test_des.append(des)\n",
        "  test_images.append(gray)\n",
        "  test_fea.append(des)"
      ],
      "execution_count": 0,
      "outputs": []
    },
    {
      "cell_type": "code",
      "metadata": {
        "id": "8XfJD9L5mynS",
        "colab_type": "code",
        "colab": {}
      },
      "source": [
        "# import pickle\n",
        "\n",
        "# # Save pickle\n",
        "# with open(\"densetrain_des.pickle\", \"wb\") as f:\n",
        "#   pickle.dump(train_des, f)\n",
        "\n",
        "# with open(\"densetest_des.pickle\", \"wb\") as f:\n",
        "#   pickle.dump(test_des, f)\n"
      ],
      "execution_count": 0,
      "outputs": []
    },
    {
      "cell_type": "code",
      "metadata": {
        "id": "G33At0y2nIGT",
        "colab_type": "code",
        "colab": {}
      },
      "source": [
        "# with open(\"densetrain_des.pickle\", \"rb\") as r:\n",
        "#   read_data = pickle.load(r)\n",
        "\n",
        "# with open(\"densetest_des.pickle\", \"rb\") as r:\n",
        "#   read_data = pickle.load(r)"
      ],
      "execution_count": 0,
      "outputs": []
    },
    {
      "cell_type": "code",
      "metadata": {
        "id": "nGP7gH6MeEnu",
        "colab_type": "code",
        "outputId": "e6a09bab-0d99-4d6d-e075-4a149254819c",
        "colab": {
          "base_uri": "https://localhost:8080/",
          "height": 34
        }
      },
      "source": [
        "train_images = np.array(train_images)\n",
        "train_images.shape"
      ],
      "execution_count": 0,
      "outputs": [
        {
          "output_type": "execute_result",
          "data": {
            "text/plain": [
              "(3060, 256, 256)"
            ]
          },
          "metadata": {
            "tags": []
          },
          "execution_count": 51
        }
      ]
    },
    {
      "cell_type": "markdown",
      "metadata": {
        "id": "7eJAyBObYkaK",
        "colab_type": "text"
      },
      "source": [
        "# * Checking the shape"
      ]
    },
    {
      "cell_type": "code",
      "metadata": {
        "id": "cySUMUAfYkCL",
        "colab_type": "code",
        "outputId": "eaa343dc-f693-4ae2-97b9-dabdf089772a",
        "colab": {
          "base_uri": "https://localhost:8080/",
          "height": 34
        }
      },
      "source": [
        "train_des = np.array(train_des)\n",
        "train_des.shape"
      ],
      "execution_count": 0,
      "outputs": [
        {
          "output_type": "execute_result",
          "data": {
            "text/plain": [
              "(3133440, 128)"
            ]
          },
          "metadata": {
            "tags": []
          },
          "execution_count": 52
        }
      ]
    },
    {
      "cell_type": "code",
      "metadata": {
        "id": "vpn2NtCEZLfS",
        "colab_type": "code",
        "outputId": "e9e2bdf4-a46c-4213-80f7-5e1b614d3fee",
        "colab": {
          "base_uri": "https://localhost:8080/",
          "height": 34
        }
      },
      "source": [
        "test_des = np.array(test_des)\n",
        "test_des.shape"
      ],
      "execution_count": 0,
      "outputs": [
        {
          "output_type": "execute_result",
          "data": {
            "text/plain": [
              "(1732608, 128)"
            ]
          },
          "metadata": {
            "tags": []
          },
          "execution_count": 53
        }
      ]
    },
    {
      "cell_type": "code",
      "metadata": {
        "id": "mSTtQqEzZbmZ",
        "colab_type": "code",
        "outputId": "1bdf906c-f216-4cc7-bcb9-d7f0406ebad8",
        "colab": {
          "base_uri": "https://localhost:8080/",
          "height": 34
        }
      },
      "source": [
        "# for codebook histogram, reshape 1d, 128 dimensions\n",
        "\n",
        "train_des = train_des.reshape(-1,128)\n",
        "train_des.shape"
      ],
      "execution_count": 0,
      "outputs": [
        {
          "output_type": "execute_result",
          "data": {
            "text/plain": [
              "(3133440, 128)"
            ]
          },
          "metadata": {
            "tags": []
          },
          "execution_count": 54
        }
      ]
    },
    {
      "cell_type": "code",
      "metadata": {
        "id": "R7FcRBUnZauK",
        "colab_type": "code",
        "outputId": "f9ea0ae9-6497-4514-b08f-53a2ffb4e4a4",
        "colab": {
          "base_uri": "https://localhost:8080/",
          "height": 34
        }
      },
      "source": [
        "test_des = test_des.reshape(-1,128)\n",
        "test_des.shape"
      ],
      "execution_count": 0,
      "outputs": [
        {
          "output_type": "execute_result",
          "data": {
            "text/plain": [
              "(1732608, 128)"
            ]
          },
          "metadata": {
            "tags": []
          },
          "execution_count": 55
        }
      ]
    },
    {
      "cell_type": "markdown",
      "metadata": {
        "id": "RmVc09L0Z-xa",
        "colab_type": "text"
      },
      "source": [
        "# Minibatchkmeans"
      ]
    },
    {
      "cell_type": "code",
      "metadata": {
        "id": "D_596DWza1xV",
        "colab_type": "code",
        "outputId": "3dcc6524-df12-441b-8be7-b1c12b59cb67",
        "colab": {
          "base_uri": "https://localhost:8080/",
          "height": 338
        }
      },
      "source": [
        "# gpu kmeans install\n",
        "pip install kmc2"
      ],
      "execution_count": 0,
      "outputs": [
        {
          "output_type": "stream",
          "text": [
            "Collecting kmc2\n",
            "\u001b[?25l  Downloading https://files.pythonhosted.org/packages/b6/a2/42b2dd4fa0c425912c03222dd443f1d6aceed410a29467d1e5d8989c72f1/kmc2-0.1.tar.gz (102kB)\n",
            "\u001b[K     |████████████████████████████████| 102kB 5.7MB/s \n",
            "\u001b[?25hRequirement already satisfied: numpy in /usr/local/lib/python3.6/dist-packages (from kmc2) (1.17.4)\n",
            "Requirement already satisfied: scipy in /usr/local/lib/python3.6/dist-packages (from kmc2) (1.3.3)\n",
            "Requirement already satisfied: scikit-learn in /usr/local/lib/python3.6/dist-packages (from kmc2) (0.21.3)\n",
            "Collecting nose\n",
            "\u001b[?25l  Downloading https://files.pythonhosted.org/packages/15/d8/dd071918c040f50fa1cf80da16423af51ff8ce4a0f2399b7bf8de45ac3d9/nose-1.3.7-py3-none-any.whl (154kB)\n",
            "\u001b[K     |████████████████████████████████| 163kB 34.1MB/s \n",
            "\u001b[?25hRequirement already satisfied: joblib>=0.11 in /usr/local/lib/python3.6/dist-packages (from scikit-learn->kmc2) (0.14.1)\n",
            "Building wheels for collected packages: kmc2\n",
            "  Building wheel for kmc2 (setup.py) ... \u001b[?25l\u001b[?25hdone\n",
            "  Created wheel for kmc2: filename=kmc2-0.1-cp36-cp36m-linux_x86_64.whl size=252222 sha256=15e020704fb0e3eaf96d1496c2246f298f89f4550cc53cc266bfef5ae80115cf\n",
            "  Stored in directory: /root/.cache/pip/wheels/5c/ba/f0/4c8b421be72d4f2d1a93233c2f6f591e7d8b0bda05a1f4616f\n",
            "Successfully built kmc2\n",
            "Installing collected packages: nose, kmc2\n",
            "Successfully installed kmc2-0.1 nose-1.3.7\n"
          ],
          "name": "stdout"
        }
      ]
    },
    {
      "cell_type": "code",
      "metadata": {
        "id": "ecNZpwjUa7Vx",
        "colab_type": "code",
        "colab": {}
      },
      "source": [
        "import kmc2\n",
        "import copy\n",
        "from sklearn.cluster import MiniBatchKMeans"
      ],
      "execution_count": 0,
      "outputs": []
    },
    {
      "cell_type": "code",
      "metadata": {
        "id": "bXBKNMq31rNr",
        "colab_type": "code",
        "outputId": "c797b628-423f-4ec1-9792-d5bfb4f7bce7",
        "colab": {
          "base_uri": "https://localhost:8080/",
          "height": 107
        }
      },
      "source": [
        "#특징에 대한 클러스터링을 진행\n",
        "codebook_size = 800\n",
        "seeding = kmc2.kmc2(train_des, codebook_size)\n",
        "kmeans = MiniBatchKMeans(codebook_size, init = seeding).fit(train_des)\n",
        "codebook = kmeans.cluster_centers_"
      ],
      "execution_count": 0,
      "outputs": [
        {
          "output_type": "stream",
          "text": [
            "/usr/local/lib/python3.6/dist-packages/ipykernel_launcher.py:3: RuntimeWarning: Explicit initial center position passed: performing only one init in MiniBatchKMeans instead of n_init=3\n",
            "  This is separate from the ipykernel package so we can avoid doing imports until\n",
            "/usr/local/lib/python3.6/dist-packages/sklearn/cluster/k_means_.py:1561: RuntimeWarning: init_size=300 should be larger than k=800. Setting it to 3*k\n",
            "  init_size=init_size)\n"
          ],
          "name": "stderr"
        }
      ]
    },
    {
      "cell_type": "markdown",
      "metadata": {
        "id": "j-FlDwlmdS5f",
        "colab_type": "text"
      },
      "source": [
        "# HistogramSPM (2_depth)"
      ]
    },
    {
      "cell_type": "code",
      "metadata": {
        "id": "iQ6LxhKyqurC",
        "colab_type": "code",
        "colab": {}
      },
      "source": [
        "import math\n",
        "from scipy.cluster.vq import vq\n",
        "\n",
        "def Fast_getImageFeaturesSPM2(L, img_des, kmeans, k):\n",
        "\n",
        "    W = int(256/8)\n",
        "    H = int(256/8)      \n",
        "    h = []\n",
        "     \n",
        "    img_des = img_des.reshape(32,32,128)\n",
        "    for l in range(L+1):\n",
        "        w_step = math.floor(W/(2**l))\n",
        "        h_step = math.floor(H/(2**l))\n",
        "        x, y = 0, 0\n",
        "        for i in range(1,2**l + 1):\n",
        "            x = 0\n",
        "            for j in range(1, 2**l + 1):        \n",
        "                desc = img_des[y:y+h_step, x:x+w_step,:].reshape(-1,128)                \n",
        "                predict_vq = vq(desc,codebook)\n",
        "                histo = np.bincount(predict_vq[0], minlength=k).reshape(1,-1).ravel()\n",
        "                weight = 2**(l-L)\n",
        "                h.append(weight*histo)\n",
        "                x = x + w_step\n",
        "            y = y + h_step\n",
        "            \n",
        "    hist = np.array(h).ravel()\n",
        "    return hist\n",
        "\n",
        "\n",
        "# get histogram representation for training/testing data\n",
        "def Fast_getHistogramSPM2(L, data, kmeans, k):    \n",
        "    x = []\n",
        "    for i in range(len(data)):        \n",
        "        hist = Fast_getImageFeaturesSPM2(L, data[i], kmeans, k)        \n",
        "        x.append(hist)\n",
        "    return np.array(x)"
      ],
      "execution_count": 0,
      "outputs": []
    },
    {
      "cell_type": "code",
      "metadata": {
        "id": "NSUb0WwOcUHt",
        "colab_type": "code",
        "colab": {}
      },
      "source": [
        "train_fea = np.array(train_fea)"
      ],
      "execution_count": 0,
      "outputs": []
    },
    {
      "cell_type": "code",
      "metadata": {
        "id": "Vzvo-N9nclk8",
        "colab_type": "code",
        "outputId": "eb539f13-9d86-4815-d29d-f68e1a8bc804",
        "colab": {
          "base_uri": "https://localhost:8080/",
          "height": 34
        }
      },
      "source": [
        "train_fea.shape"
      ],
      "execution_count": 0,
      "outputs": [
        {
          "output_type": "execute_result",
          "data": {
            "text/plain": [
              "(3060, 1024, 128)"
            ]
          },
          "metadata": {
            "tags": []
          },
          "execution_count": 33
        }
      ]
    },
    {
      "cell_type": "code",
      "metadata": {
        "id": "NqoyC03Pq1lJ",
        "colab_type": "code",
        "colab": {}
      },
      "source": [
        "train_hist = Fast_getHistogramSPM2(2,train_fea, kmeans, codebook_size)"
      ],
      "execution_count": 0,
      "outputs": []
    },
    {
      "cell_type": "code",
      "metadata": {
        "id": "auBxvhFX1BgX",
        "colab_type": "code",
        "colab": {}
      },
      "source": [
        "test_hist = Fast_getHistogramSPM2(2,test_fea, kmeans, codebook_size)"
      ],
      "execution_count": 0,
      "outputs": []
    },
    {
      "cell_type": "code",
      "metadata": {
        "id": "Z77DdMMEEj02",
        "colab_type": "code",
        "colab": {}
      },
      "source": [
        "from sklearn.preprocessing import StandardScaler\n",
        "from sklearn.preprocessing import RobustScaler\n",
        "train_scaler = StandardScaler().fit(train_hist)\n",
        "train_histo = train_scaler.transform(train_hist)\n",
        "\n",
        "test_histo = train_scaler.transform(test_hist)"
      ],
      "execution_count": 0,
      "outputs": []
    },
    {
      "cell_type": "code",
      "metadata": {
        "id": "4wjt0Ij537ou",
        "colab_type": "code",
        "colab": {}
      },
      "source": [
        "# spm kernel\n",
        "\n",
        "def histogramIntersection(M,N):\n",
        "  m = M.shape[0]\n",
        "  n = N.shape[0]\n",
        "  result = np.zeros ((m,n))\n",
        "  for i in range(m):\n",
        "    for j in range(n):\n",
        "      temp = np.sum(np.minimum(M[i],N[j]))\n",
        "      result[i][j] = temp\n",
        "  return result"
      ],
      "execution_count": 0,
      "outputs": []
    },
    {
      "cell_type": "code",
      "metadata": {
        "id": "Qv5XT_7Ids8U",
        "colab_type": "code",
        "colab": {}
      },
      "source": [
        "from sklearn.svm import SVC \n",
        "\n",
        "from sklearn.pipeline import make_pipeline"
      ],
      "execution_count": 0,
      "outputs": []
    },
    {
      "cell_type": "code",
      "metadata": {
        "id": "1myMbSSxchtc",
        "colab_type": "code",
        "colab": {}
      },
      "source": [
        "gramMatrix = histogramIntersection(train_histo,train_histo)\n",
        "predictMatrix = histogramIntersection(test_histo,train_histo)"
      ],
      "execution_count": 0,
      "outputs": []
    },
    {
      "cell_type": "code",
      "metadata": {
        "id": "XDTv_0eFnD8D",
        "colab_type": "code",
        "colab": {}
      },
      "source": [
        "from sklearn.model_selection import GridSearchCV\n",
        "\n",
        "param_grid = {'C': [0.001,0.005,0.01, 0.05, 0.1],\n",
        "              'gamma': [0.0000001,0.0000005,0.000001]}\n",
        "grid = GridSearchCV(SVC(kernel = 'precomputed'), param_grid)\n",
        "\n",
        "%time grid.fit(gramMatrix,train_label)\n",
        "print(grid.best_params_)"
      ],
      "execution_count": 0,
      "outputs": []
    },
    {
      "cell_type": "code",
      "metadata": {
        "id": "pmzBbi2HJEOp",
        "colab_type": "code",
        "colab": {}
      },
      "source": [
        "SVMresults=grid.predict(predictMatrix)"
      ],
      "execution_count": 0,
      "outputs": []
    },
    {
      "cell_type": "code",
      "metadata": {
        "id": "5AH3YUHcfBbv",
        "colab_type": "code",
        "outputId": "60ed15e3-f487-440f-ba2f-86b9641265c1",
        "colab": {
          "base_uri": "https://localhost:8080/",
          "height": 34
        }
      },
      "source": [
        "SVMresults.shape"
      ],
      "execution_count": 0,
      "outputs": [
        {
          "output_type": "execute_result",
          "data": {
            "text/plain": [
              "(1692,)"
            ]
          },
          "metadata": {
            "tags": []
          },
          "execution_count": 42
        }
      ]
    },
    {
      "cell_type": "code",
      "metadata": {
        "id": "9xIpj1hRgcM7",
        "colab_type": "code",
        "colab": {}
      },
      "source": [
        "img_list = os.listdir(\"/content/input/testAll_v2\")\n",
        "img_list.sort()"
      ],
      "execution_count": 0,
      "outputs": []
    },
    {
      "cell_type": "code",
      "metadata": {
        "id": "8Itr4r8Cggc4",
        "colab_type": "code",
        "colab": {}
      },
      "source": [
        "yfit = SVMresults.reshape(-1,1)\n",
        "result_img_list = np.array(img_list).reshape(-1,1)\n",
        "total_result = np.hstack([result_img_list,yfit])"
      ],
      "execution_count": 0,
      "outputs": []
    },
    {
      "cell_type": "code",
      "metadata": {
        "id": "vI3T8sWzghxh",
        "colab_type": "code",
        "colab": {}
      },
      "source": [
        "df = pd.DataFrame(total_result, columns=[\"Id\",\"Category\"])\n",
        "df.to_csv('results-yongho-v3.csv',index=False, header=True)"
      ],
      "execution_count": 0,
      "outputs": []
    },
    {
      "cell_type": "code",
      "metadata": {
        "id": "0kP4anHZgjhe",
        "colab_type": "code",
        "outputId": "626f43b0-281a-4010-e75e-9995f2e73ee9",
        "colab": {
          "base_uri": "https://localhost:8080/",
          "height": 52
        }
      },
      "source": [
        "! kaggle competitions submit -c 2019-ml-finalproject -f results-yongho-v3.csv -m \"Final_Term_Project\""
      ],
      "execution_count": 0,
      "outputs": [
        {
          "output_type": "stream",
          "text": [
            "100% 29.6k/29.6k [00:02<00:00, 11.2kB/s]\n",
            "Successfully submitted to 2019.Fall.PatternRecognition "
          ],
          "name": "stdout"
        }
      ]
    }
  ]
}