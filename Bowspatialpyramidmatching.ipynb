{
  "nbformat": 4,
  "nbformat_minor": 0,
  "metadata": {
    "colab": {
      "name": "Bowspatialpyramidmatching.ipynb",
      "provenance": [],
      "toc_visible": true,
      "include_colab_link": true
    },
    "kernelspec": {
      "name": "python3",
      "display_name": "Python 3"
    }
  },
  "cells": [
    {
      "cell_type": "markdown",
      "metadata": {
        "id": "view-in-github",
        "colab_type": "text"
      },
      "source": [
        "<a href=\"https://colab.research.google.com/github/chldydgh4687/PRproject/blob/Develop/Bowspatialpyramidmatching.ipynb\" target=\"_parent\"><img src=\"https://colab.research.google.com/assets/colab-badge.svg\" alt=\"Open In Colab\"/></a>"
      ]
    },
    {
      "cell_type": "markdown",
      "metadata": {
        "id": "0FEO8Yf7VWxO",
        "colab_type": "text"
      },
      "source": [
        "# #0 (Developing) Using Google Colab with GitHub ( Git Clone - branch : Develop )"
      ]
    },
    {
      "cell_type": "code",
      "metadata": {
        "id": "dF43WGe3VkDG",
        "colab_type": "code",
        "outputId": "2aaac08b-301c-4dbc-ae2f-efadf2b82dbb",
        "colab": {
          "base_uri": "https://localhost:8080/",
          "height": 123
        }
      },
      "source": [
        "!git config --global user.email \"s2blue4687@naver.com\"\n",
        "!git config --global user.name \"chldydgh4687\"\n",
        "!git clone -b Develop https://github.com/chldydgh4687/PRproject.git"
      ],
      "execution_count": 1,
      "outputs": [
        {
          "output_type": "stream",
          "text": [
            "Cloning into 'PRproject'...\n",
            "remote: Enumerating objects: 60, done.\u001b[K\n",
            "remote: Counting objects: 100% (60/60), done.\u001b[K\n",
            "remote: Compressing objects: 100% (50/50), done.\u001b[K\n",
            "remote: Total 60 (delta 10), reused 24 (delta 3), pack-reused 0\u001b[K\n",
            "Unpacking objects: 100% (60/60), done.\n"
          ],
          "name": "stdout"
        }
      ]
    },
    {
      "cell_type": "markdown",
      "metadata": {
        "id": "sNZcPfTxfi-1",
        "colab_type": "text"
      },
      "source": [
        "## #0 code upload"
      ]
    },
    {
      "cell_type": "markdown",
      "metadata": {
        "id": "wPBrnNVjaoLA",
        "colab_type": "text"
      },
      "source": [
        "![대체 텍스트](https://github.com/chldydgh4687/PRproject/blob/Develop/study/picture/23423423.PNG?raw=true)"
      ]
    },
    {
      "cell_type": "markdown",
      "metadata": {
        "id": "u2JoF64Zn_xv",
        "colab_type": "text"
      },
      "source": [
        "# #0 (Release) Using Google Colab with GitHub ( Git Clone - branch : Master )"
      ]
    },
    {
      "cell_type": "code",
      "metadata": {
        "id": "H9llQNYRoIGJ",
        "colab_type": "code",
        "outputId": "6e037012-ca46-4b99-a84d-1b75fc5356bd",
        "colab": {
          "base_uri": "https://localhost:8080/",
          "height": 34
        }
      },
      "source": [
        "!git config --global user.email \"s2blue4687@naver.com\"\n",
        "!git config --global user.name \"chldydgh4687\"\n",
        "!git clone -b master https://github.com/chldydgh4687/PRproject.git"
      ],
      "execution_count": 2,
      "outputs": [
        {
          "output_type": "stream",
          "text": [
            "fatal: destination path 'PRproject' already exists and is not an empty directory.\n"
          ],
          "name": "stdout"
        }
      ]
    },
    {
      "cell_type": "code",
      "metadata": {
        "id": "sMEL7PZgbu5H",
        "colab_type": "code",
        "outputId": "0e496ce6-0946-4821-a657-c8b20ee48053",
        "colab": {
          "base_uri": "https://localhost:8080/",
          "height": 34
        }
      },
      "source": [
        "!git merge master"
      ],
      "execution_count": 0,
      "outputs": [
        {
          "output_type": "stream",
          "text": [
            "Already up to date.\n"
          ],
          "name": "stdout"
        }
      ]
    },
    {
      "cell_type": "markdown",
      "metadata": {
        "id": "HNMW7wObTkL_",
        "colab_type": "text"
      },
      "source": [
        "# #1 CalTech-101 Dataset 연동"
      ]
    },
    {
      "cell_type": "code",
      "metadata": {
        "id": "BRyTqH6FLNGG",
        "colab_type": "code",
        "outputId": "a0ee817e-e789-41c1-9c69-ef91eb05e1c4",
        "colab": {
          "base_uri": "https://localhost:8080/",
          "height": 70
        }
      },
      "source": [
        "!echo \"Downloading 101_Object_Categories for image notebooks\"\n",
        "!curl -L -o 101_ObjectCategories.tar.gz --progress-bar http://www.vision.caltech.edu/Image_Datasets/Caltech101/101_ObjectCategories.tar.gz\n",
        "!tar -xzf 101_ObjectCategories.tar.gz -C /content/PRproject/\n",
        "!rm 101_ObjectCategories.tar.gz\n",
        "!ls"
      ],
      "execution_count": 0,
      "outputs": [
        {
          "output_type": "stream",
          "text": [
            "Downloading 101_Object_Categories for image notebooks\n",
            "######################################################################## 100.0%\n",
            "PRproject  sample_data\n"
          ],
          "name": "stdout"
        }
      ]
    },
    {
      "cell_type": "markdown",
      "metadata": {
        "id": "xbnQZPhYPHmX",
        "colab_type": "text"
      },
      "source": [
        ""
      ]
    }
  ]
}