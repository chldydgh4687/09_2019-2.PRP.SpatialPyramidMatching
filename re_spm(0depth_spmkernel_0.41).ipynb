{
  "nbformat": 4,
  "nbformat_minor": 0,
  "metadata": {
    "colab": {
      "name": "re_spm.ipynb",
      "provenance": [],
      "toc_visible": true,
      "include_colab_link": true
    },
    "kernelspec": {
      "name": "python3",
      "display_name": "Python 3"
    },
    "widgets": {
      "application/vnd.jupyter.widget-state+json": {
        "bb2af36fbe994ba48609e64ffd72ef69": {
          "model_module": "@jupyter-widgets/controls",
          "model_name": "HBoxModel",
          "state": {
            "_view_name": "HBoxView",
            "_dom_classes": [],
            "_model_name": "HBoxModel",
            "_view_module": "@jupyter-widgets/controls",
            "_model_module_version": "1.5.0",
            "_view_count": null,
            "_view_module_version": "1.5.0",
            "box_style": "",
            "layout": "IPY_MODEL_30f341dd644f416b89d56a7a1f27141f",
            "_model_module": "@jupyter-widgets/controls",
            "children": [
              "IPY_MODEL_0f0aa3971c134c3fa599de9e53623278",
              "IPY_MODEL_ab022e73657f45939debd56b2a7d5beb"
            ]
          }
        },
        "30f341dd644f416b89d56a7a1f27141f": {
          "model_module": "@jupyter-widgets/base",
          "model_name": "LayoutModel",
          "state": {
            "_view_name": "LayoutView",
            "grid_template_rows": null,
            "right": null,
            "justify_content": null,
            "_view_module": "@jupyter-widgets/base",
            "overflow": null,
            "_model_module_version": "1.2.0",
            "_view_count": null,
            "flex_flow": null,
            "width": null,
            "min_width": null,
            "border": null,
            "align_items": null,
            "bottom": null,
            "_model_module": "@jupyter-widgets/base",
            "top": null,
            "grid_column": null,
            "overflow_y": null,
            "overflow_x": null,
            "grid_auto_flow": null,
            "grid_area": null,
            "grid_template_columns": null,
            "flex": null,
            "_model_name": "LayoutModel",
            "justify_items": null,
            "grid_row": null,
            "max_height": null,
            "align_content": null,
            "visibility": null,
            "align_self": null,
            "height": null,
            "min_height": null,
            "padding": null,
            "grid_auto_rows": null,
            "grid_gap": null,
            "max_width": null,
            "order": null,
            "_view_module_version": "1.2.0",
            "grid_template_areas": null,
            "object_position": null,
            "object_fit": null,
            "grid_auto_columns": null,
            "margin": null,
            "display": null,
            "left": null
          }
        },
        "0f0aa3971c134c3fa599de9e53623278": {
          "model_module": "@jupyter-widgets/controls",
          "model_name": "IntProgressModel",
          "state": {
            "_view_name": "ProgressView",
            "style": "IPY_MODEL_ea81aad9c7aa4c938e78bf8b43d8537f",
            "_dom_classes": [],
            "description": "",
            "_model_name": "IntProgressModel",
            "bar_style": "success",
            "max": 102,
            "_view_module": "@jupyter-widgets/controls",
            "_model_module_version": "1.5.0",
            "value": 102,
            "_view_count": null,
            "_view_module_version": "1.5.0",
            "orientation": "horizontal",
            "min": 0,
            "description_tooltip": null,
            "_model_module": "@jupyter-widgets/controls",
            "layout": "IPY_MODEL_270326ba015f45899ff79dc8eee76907"
          }
        },
        "ab022e73657f45939debd56b2a7d5beb": {
          "model_module": "@jupyter-widgets/controls",
          "model_name": "HTMLModel",
          "state": {
            "_view_name": "HTMLView",
            "style": "IPY_MODEL_8ff221f4f184481ebf1de46ad94ac1cd",
            "_dom_classes": [],
            "description": "",
            "_model_name": "HTMLModel",
            "placeholder": "​",
            "_view_module": "@jupyter-widgets/controls",
            "_model_module_version": "1.5.0",
            "value": "100% 102/102 [05:02&lt;00:00,  3.03s/it]",
            "_view_count": null,
            "_view_module_version": "1.5.0",
            "description_tooltip": null,
            "_model_module": "@jupyter-widgets/controls",
            "layout": "IPY_MODEL_804e23bc187046ceaf3df16421f0074e"
          }
        },
        "ea81aad9c7aa4c938e78bf8b43d8537f": {
          "model_module": "@jupyter-widgets/controls",
          "model_name": "ProgressStyleModel",
          "state": {
            "_view_name": "StyleView",
            "_model_name": "ProgressStyleModel",
            "description_width": "",
            "_view_module": "@jupyter-widgets/base",
            "_model_module_version": "1.5.0",
            "_view_count": null,
            "_view_module_version": "1.2.0",
            "bar_color": null,
            "_model_module": "@jupyter-widgets/controls"
          }
        },
        "270326ba015f45899ff79dc8eee76907": {
          "model_module": "@jupyter-widgets/base",
          "model_name": "LayoutModel",
          "state": {
            "_view_name": "LayoutView",
            "grid_template_rows": null,
            "right": null,
            "justify_content": null,
            "_view_module": "@jupyter-widgets/base",
            "overflow": null,
            "_model_module_version": "1.2.0",
            "_view_count": null,
            "flex_flow": null,
            "width": null,
            "min_width": null,
            "border": null,
            "align_items": null,
            "bottom": null,
            "_model_module": "@jupyter-widgets/base",
            "top": null,
            "grid_column": null,
            "overflow_y": null,
            "overflow_x": null,
            "grid_auto_flow": null,
            "grid_area": null,
            "grid_template_columns": null,
            "flex": null,
            "_model_name": "LayoutModel",
            "justify_items": null,
            "grid_row": null,
            "max_height": null,
            "align_content": null,
            "visibility": null,
            "align_self": null,
            "height": null,
            "min_height": null,
            "padding": null,
            "grid_auto_rows": null,
            "grid_gap": null,
            "max_width": null,
            "order": null,
            "_view_module_version": "1.2.0",
            "grid_template_areas": null,
            "object_position": null,
            "object_fit": null,
            "grid_auto_columns": null,
            "margin": null,
            "display": null,
            "left": null
          }
        },
        "8ff221f4f184481ebf1de46ad94ac1cd": {
          "model_module": "@jupyter-widgets/controls",
          "model_name": "DescriptionStyleModel",
          "state": {
            "_view_name": "StyleView",
            "_model_name": "DescriptionStyleModel",
            "description_width": "",
            "_view_module": "@jupyter-widgets/base",
            "_model_module_version": "1.5.0",
            "_view_count": null,
            "_view_module_version": "1.2.0",
            "_model_module": "@jupyter-widgets/controls"
          }
        },
        "804e23bc187046ceaf3df16421f0074e": {
          "model_module": "@jupyter-widgets/base",
          "model_name": "LayoutModel",
          "state": {
            "_view_name": "LayoutView",
            "grid_template_rows": null,
            "right": null,
            "justify_content": null,
            "_view_module": "@jupyter-widgets/base",
            "overflow": null,
            "_model_module_version": "1.2.0",
            "_view_count": null,
            "flex_flow": null,
            "width": null,
            "min_width": null,
            "border": null,
            "align_items": null,
            "bottom": null,
            "_model_module": "@jupyter-widgets/base",
            "top": null,
            "grid_column": null,
            "overflow_y": null,
            "overflow_x": null,
            "grid_auto_flow": null,
            "grid_area": null,
            "grid_template_columns": null,
            "flex": null,
            "_model_name": "LayoutModel",
            "justify_items": null,
            "grid_row": null,
            "max_height": null,
            "align_content": null,
            "visibility": null,
            "align_self": null,
            "height": null,
            "min_height": null,
            "padding": null,
            "grid_auto_rows": null,
            "grid_gap": null,
            "max_width": null,
            "order": null,
            "_view_module_version": "1.2.0",
            "grid_template_areas": null,
            "object_position": null,
            "object_fit": null,
            "grid_auto_columns": null,
            "margin": null,
            "display": null,
            "left": null
          }
        },
        "973a99612b77443fbe6089f41082e7ec": {
          "model_module": "@jupyter-widgets/controls",
          "model_name": "HBoxModel",
          "state": {
            "_view_name": "HBoxView",
            "_dom_classes": [],
            "_model_name": "HBoxModel",
            "_view_module": "@jupyter-widgets/controls",
            "_model_module_version": "1.5.0",
            "_view_count": null,
            "_view_module_version": "1.5.0",
            "box_style": "",
            "layout": "IPY_MODEL_787a09d7e6744678bacc695e34ffd334",
            "_model_module": "@jupyter-widgets/controls",
            "children": [
              "IPY_MODEL_b236297a653d40939caa69e0624bd8c2",
              "IPY_MODEL_65c7961171b64212a03b3912468995e9"
            ]
          }
        },
        "787a09d7e6744678bacc695e34ffd334": {
          "model_module": "@jupyter-widgets/base",
          "model_name": "LayoutModel",
          "state": {
            "_view_name": "LayoutView",
            "grid_template_rows": null,
            "right": null,
            "justify_content": null,
            "_view_module": "@jupyter-widgets/base",
            "overflow": null,
            "_model_module_version": "1.2.0",
            "_view_count": null,
            "flex_flow": null,
            "width": null,
            "min_width": null,
            "border": null,
            "align_items": null,
            "bottom": null,
            "_model_module": "@jupyter-widgets/base",
            "top": null,
            "grid_column": null,
            "overflow_y": null,
            "overflow_x": null,
            "grid_auto_flow": null,
            "grid_area": null,
            "grid_template_columns": null,
            "flex": null,
            "_model_name": "LayoutModel",
            "justify_items": null,
            "grid_row": null,
            "max_height": null,
            "align_content": null,
            "visibility": null,
            "align_self": null,
            "height": null,
            "min_height": null,
            "padding": null,
            "grid_auto_rows": null,
            "grid_gap": null,
            "max_width": null,
            "order": null,
            "_view_module_version": "1.2.0",
            "grid_template_areas": null,
            "object_position": null,
            "object_fit": null,
            "grid_auto_columns": null,
            "margin": null,
            "display": null,
            "left": null
          }
        },
        "b236297a653d40939caa69e0624bd8c2": {
          "model_module": "@jupyter-widgets/controls",
          "model_name": "IntProgressModel",
          "state": {
            "_view_name": "ProgressView",
            "style": "IPY_MODEL_7552fba685394ae7be5f121167912e13",
            "_dom_classes": [],
            "description": "",
            "_model_name": "IntProgressModel",
            "bar_style": "success",
            "max": 1692,
            "_view_module": "@jupyter-widgets/controls",
            "_model_module_version": "1.5.0",
            "value": 1692,
            "_view_count": null,
            "_view_module_version": "1.5.0",
            "orientation": "horizontal",
            "min": 0,
            "description_tooltip": null,
            "_model_module": "@jupyter-widgets/controls",
            "layout": "IPY_MODEL_57ce4ca2e7764040b730e0a7918ba224"
          }
        },
        "65c7961171b64212a03b3912468995e9": {
          "model_module": "@jupyter-widgets/controls",
          "model_name": "HTMLModel",
          "state": {
            "_view_name": "HTMLView",
            "style": "IPY_MODEL_c047085a4eff47afb4e7f3cd5e4de4f6",
            "_dom_classes": [],
            "description": "",
            "_model_name": "HTMLModel",
            "placeholder": "​",
            "_view_module": "@jupyter-widgets/controls",
            "_model_module_version": "1.5.0",
            "value": "100% 1692/1692 [03:02&lt;00:00,  8.62it/s]",
            "_view_count": null,
            "_view_module_version": "1.5.0",
            "description_tooltip": null,
            "_model_module": "@jupyter-widgets/controls",
            "layout": "IPY_MODEL_03ecd52486124294813af6bf42d462a1"
          }
        },
        "7552fba685394ae7be5f121167912e13": {
          "model_module": "@jupyter-widgets/controls",
          "model_name": "ProgressStyleModel",
          "state": {
            "_view_name": "StyleView",
            "_model_name": "ProgressStyleModel",
            "description_width": "",
            "_view_module": "@jupyter-widgets/base",
            "_model_module_version": "1.5.0",
            "_view_count": null,
            "_view_module_version": "1.2.0",
            "bar_color": null,
            "_model_module": "@jupyter-widgets/controls"
          }
        },
        "57ce4ca2e7764040b730e0a7918ba224": {
          "model_module": "@jupyter-widgets/base",
          "model_name": "LayoutModel",
          "state": {
            "_view_name": "LayoutView",
            "grid_template_rows": null,
            "right": null,
            "justify_content": null,
            "_view_module": "@jupyter-widgets/base",
            "overflow": null,
            "_model_module_version": "1.2.0",
            "_view_count": null,
            "flex_flow": null,
            "width": null,
            "min_width": null,
            "border": null,
            "align_items": null,
            "bottom": null,
            "_model_module": "@jupyter-widgets/base",
            "top": null,
            "grid_column": null,
            "overflow_y": null,
            "overflow_x": null,
            "grid_auto_flow": null,
            "grid_area": null,
            "grid_template_columns": null,
            "flex": null,
            "_model_name": "LayoutModel",
            "justify_items": null,
            "grid_row": null,
            "max_height": null,
            "align_content": null,
            "visibility": null,
            "align_self": null,
            "height": null,
            "min_height": null,
            "padding": null,
            "grid_auto_rows": null,
            "grid_gap": null,
            "max_width": null,
            "order": null,
            "_view_module_version": "1.2.0",
            "grid_template_areas": null,
            "object_position": null,
            "object_fit": null,
            "grid_auto_columns": null,
            "margin": null,
            "display": null,
            "left": null
          }
        },
        "c047085a4eff47afb4e7f3cd5e4de4f6": {
          "model_module": "@jupyter-widgets/controls",
          "model_name": "DescriptionStyleModel",
          "state": {
            "_view_name": "StyleView",
            "_model_name": "DescriptionStyleModel",
            "description_width": "",
            "_view_module": "@jupyter-widgets/base",
            "_model_module_version": "1.5.0",
            "_view_count": null,
            "_view_module_version": "1.2.0",
            "_model_module": "@jupyter-widgets/controls"
          }
        },
        "03ecd52486124294813af6bf42d462a1": {
          "model_module": "@jupyter-widgets/base",
          "model_name": "LayoutModel",
          "state": {
            "_view_name": "LayoutView",
            "grid_template_rows": null,
            "right": null,
            "justify_content": null,
            "_view_module": "@jupyter-widgets/base",
            "overflow": null,
            "_model_module_version": "1.2.0",
            "_view_count": null,
            "flex_flow": null,
            "width": null,
            "min_width": null,
            "border": null,
            "align_items": null,
            "bottom": null,
            "_model_module": "@jupyter-widgets/base",
            "top": null,
            "grid_column": null,
            "overflow_y": null,
            "overflow_x": null,
            "grid_auto_flow": null,
            "grid_area": null,
            "grid_template_columns": null,
            "flex": null,
            "_model_name": "LayoutModel",
            "justify_items": null,
            "grid_row": null,
            "max_height": null,
            "align_content": null,
            "visibility": null,
            "align_self": null,
            "height": null,
            "min_height": null,
            "padding": null,
            "grid_auto_rows": null,
            "grid_gap": null,
            "max_width": null,
            "order": null,
            "_view_module_version": "1.2.0",
            "grid_template_areas": null,
            "object_position": null,
            "object_fit": null,
            "grid_auto_columns": null,
            "margin": null,
            "display": null,
            "left": null
          }
        }
      }
    }
  },
  "cells": [
    {
      "cell_type": "markdown",
      "metadata": {
        "id": "view-in-github",
        "colab_type": "text"
      },
      "source": [
        "<a href=\"https://colab.research.google.com/github/chldydgh4687/PRproject/blob/Hotfix/re_spm.ipynb\" target=\"_parent\"><img src=\"https://colab.research.google.com/assets/colab-badge.svg\" alt=\"Open In Colab\"/></a>"
      ]
    },
    {
      "cell_type": "markdown",
      "metadata": {
        "id": "HxZrJWgXRkUg",
        "colab_type": "text"
      },
      "source": [
        "# * Kaggle Connecting"
      ]
    },
    {
      "cell_type": "code",
      "metadata": {
        "id": "tPFmSQqzUgtG",
        "colab_type": "code",
        "outputId": "dbf591a7-7e62-4a5c-d1c6-8e21ab4d62f8",
        "colab": {
          "base_uri": "https://localhost:8080/",
          "height": 481
        }
      },
      "source": [
        "!ls -lha kaggle.json\n",
        "\n",
        "!pip uninstall -y kaggle\n",
        "!pip install --upgrade pip\n",
        "!pip install kaggle==1.5.6\n",
        "\n",
        "\n",
        "# 캐글연동을 위한 토큰 입력\n",
        "! mkdir -p ~/.kaggle\n",
        "! cp kaggle.json ~/.kaggle/\n",
        "! chmod 600 ~/.kaggle/kaggle.json\n",
        "\n",
        "\n",
        "# 버전이 1.5.6 이 아니면, 진행할 수 없다\n",
        "! kaggle -v"
      ],
      "execution_count": 1,
      "outputs": [
        {
          "output_type": "stream",
          "text": [
            "-rw-r--r-- 1 root root 66 Dec  4 05:19 kaggle.json\n",
            "Uninstalling kaggle-1.5.6:\n",
            "  Successfully uninstalled kaggle-1.5.6\n",
            "Requirement already up-to-date: pip in /usr/local/lib/python3.6/dist-packages (19.3.1)\n",
            "Collecting kaggle==1.5.6\n",
            "\u001b[?25l  Downloading https://files.pythonhosted.org/packages/62/ab/bb20f9b9e24f9a6250f95a432f8d9a7d745f8d24039d7a5a6eaadb7783ba/kaggle-1.5.6.tar.gz (58kB)\n",
            "\u001b[K     |████████████████████████████████| 61kB 2.0MB/s \n",
            "\u001b[?25hRequirement already satisfied: urllib3<1.25,>=1.21.1 in /usr/local/lib/python3.6/dist-packages (from kaggle==1.5.6) (1.24.3)\n",
            "Requirement already satisfied: six>=1.10 in /usr/local/lib/python3.6/dist-packages (from kaggle==1.5.6) (1.12.0)\n",
            "Requirement already satisfied: certifi in /usr/local/lib/python3.6/dist-packages (from kaggle==1.5.6) (2019.9.11)\n",
            "Requirement already satisfied: python-dateutil in /usr/local/lib/python3.6/dist-packages (from kaggle==1.5.6) (2.6.1)\n",
            "Requirement already satisfied: requests in /usr/local/lib/python3.6/dist-packages (from kaggle==1.5.6) (2.21.0)\n",
            "Requirement already satisfied: tqdm in /usr/local/lib/python3.6/dist-packages (from kaggle==1.5.6) (4.28.1)\n",
            "Requirement already satisfied: python-slugify in /usr/local/lib/python3.6/dist-packages (from kaggle==1.5.6) (4.0.0)\n",
            "Requirement already satisfied: idna<2.9,>=2.5 in /usr/local/lib/python3.6/dist-packages (from requests->kaggle==1.5.6) (2.8)\n",
            "Requirement already satisfied: chardet<3.1.0,>=3.0.2 in /usr/local/lib/python3.6/dist-packages (from requests->kaggle==1.5.6) (3.0.4)\n",
            "Requirement already satisfied: text-unidecode>=1.3 in /usr/local/lib/python3.6/dist-packages (from python-slugify->kaggle==1.5.6) (1.3)\n",
            "Building wheels for collected packages: kaggle\n",
            "  Building wheel for kaggle (setup.py) ... \u001b[?25l\u001b[?25hdone\n",
            "  Created wheel for kaggle: filename=kaggle-1.5.6-cp36-none-any.whl size=72859 sha256=53b5f63557e6c7fd98a2421ae8e2453899e37738b19fe996307d94a9fc25bfc8\n",
            "  Stored in directory: /root/.cache/pip/wheels/57/4e/e8/bb28d035162fb8f17f8ca5d42c3230e284c6aa565b42b72674\n",
            "Successfully built kaggle\n",
            "Installing collected packages: kaggle\n",
            "Successfully installed kaggle-1.5.6\n",
            "Kaggle API 1.5.6\n"
          ],
          "name": "stdout"
        }
      ]
    },
    {
      "cell_type": "code",
      "metadata": {
        "id": "AmjpMVyDRji7",
        "colab_type": "code",
        "outputId": "5afb73f2-9026-493b-f0e1-973437e1135b",
        "colab": {
          "base_uri": "https://localhost:8080/",
          "height": 70
        }
      },
      "source": [
        "! kaggle competitions download -c 2019-ml-finalproject"
      ],
      "execution_count": 2,
      "outputs": [
        {
          "output_type": "stream",
          "text": [
            "Downloading 2019-ml-finalproject.zip to /content\n",
            " 63% 41.0M/65.0M [00:00<00:00, 59.4MB/s]\n",
            "100% 65.0M/65.0M [00:00<00:00, 152MB/s] \n"
          ],
          "name": "stdout"
        }
      ]
    },
    {
      "cell_type": "code",
      "metadata": {
        "id": "bQ6poMXIRwwq",
        "colab_type": "code",
        "colab": {}
      },
      "source": [
        "import zipfile\n",
        "import os\n",
        "\n",
        "os.mkdir('/content/input')\n",
        "\n",
        "zip_ref = zipfile.ZipFile(\"/content/2019-ml-finalproject.zip\", 'r')\n",
        "zip_ref.extractall(\"/content/input\")\n",
        "zip_ref.close()"
      ],
      "execution_count": 0,
      "outputs": []
    },
    {
      "cell_type": "markdown",
      "metadata": {
        "id": "Li7-RRs9Ryji",
        "colab_type": "text"
      },
      "source": [
        "# * opencv version changing"
      ]
    },
    {
      "cell_type": "code",
      "metadata": {
        "id": "rIIb3RmFRxja",
        "colab_type": "code",
        "outputId": "158481b4-e628-4a74-d526-3c4d61bc6d1e",
        "colab": {
          "base_uri": "https://localhost:8080/",
          "height": 730
        }
      },
      "source": [
        "! yes | pip3 uninstall opencv-python\n",
        "! yes | pip3 uninstall opencv-contrib-python\n",
        "! yes | pip3 install opencv-python==3.4.2.16\n",
        "! yes | pip3 install opencv-contrib-python==3.4.2.16"
      ],
      "execution_count": 4,
      "outputs": [
        {
          "output_type": "stream",
          "text": [
            "Uninstalling opencv-python-3.4.7.28:\n",
            "  Would remove:\n",
            "    /usr/local/lib/python3.6/dist-packages/cv2/*\n",
            "    /usr/local/lib/python3.6/dist-packages/opencv_python-3.4.7.28.dist-info/*\n",
            "  Would not remove (might be manually added):\n",
            "    /usr/local/lib/python3.6/dist-packages/cv2/.libs/libQtCore-9549151f.so.4.8.7\n",
            "    /usr/local/lib/python3.6/dist-packages/cv2/.libs/libQtGui-6d0f14dd.so.4.8.7\n",
            "    /usr/local/lib/python3.6/dist-packages/cv2/.libs/libavcodec-eac15e48.so.58.21.104\n",
            "    /usr/local/lib/python3.6/dist-packages/cv2/.libs/libavformat-b6bcbe33.so.58.17.101\n",
            "    /usr/local/lib/python3.6/dist-packages/cv2/.libs/libavutil-e1b1a17d.so.56.18.102\n",
            "    /usr/local/lib/python3.6/dist-packages/cv2/.libs/libswresample-b4363bfa.so.3.2.100\n",
            "    /usr/local/lib/python3.6/dist-packages/cv2/.libs/libswscale-15b3fdc6.so.5.2.100\n",
            "    /usr/local/lib/python3.6/dist-packages/cv2/.libs/libvpx-81a43c0a.so.5.0.0\n",
            "Proceed (y/n)?   Successfully uninstalled opencv-python-3.4.7.28\n",
            "Uninstalling opencv-contrib-python-3.4.3.18:\n",
            "  Would remove:\n",
            "    /usr/local/lib/python3.6/dist-packages/cv2/.libs/libQtCore-9549151f.so.4.8.7\n",
            "    /usr/local/lib/python3.6/dist-packages/cv2/.libs/libQtGui-6d0f14dd.so.4.8.7\n",
            "    /usr/local/lib/python3.6/dist-packages/cv2/.libs/libavcodec-eac15e48.so.58.21.104\n",
            "    /usr/local/lib/python3.6/dist-packages/cv2/.libs/libavformat-b6bcbe33.so.58.17.101\n",
            "    /usr/local/lib/python3.6/dist-packages/cv2/.libs/libavutil-e1b1a17d.so.56.18.102\n",
            "    /usr/local/lib/python3.6/dist-packages/cv2/.libs/libswresample-b4363bfa.so.3.2.100\n",
            "    /usr/local/lib/python3.6/dist-packages/cv2/.libs/libswscale-15b3fdc6.so.5.2.100\n",
            "    /usr/local/lib/python3.6/dist-packages/cv2/.libs/libvpx-81a43c0a.so.5.0.0\n",
            "    /usr/local/lib/python3.6/dist-packages/opencv_contrib_python-3.4.3.18.dist-info/*\n",
            "Proceed (y/n)?   Successfully uninstalled opencv-contrib-python-3.4.3.18\n",
            "Collecting opencv-python==3.4.2.16\n",
            "\u001b[?25l  Downloading https://files.pythonhosted.org/packages/fa/7d/5042b668a8ed41d2a80b8c172f5efcd572e3c046c75ae029407e19b7fc68/opencv_python-3.4.2.16-cp36-cp36m-manylinux1_x86_64.whl (25.0MB)\n",
            "\u001b[K     |████████████████████████████████| 25.0MB 88kB/s \n",
            "\u001b[?25hRequirement already satisfied: numpy>=1.11.3 in /usr/local/lib/python3.6/dist-packages (from opencv-python==3.4.2.16) (1.17.4)\n",
            "\u001b[31mERROR: albumentations 0.1.12 has requirement imgaug<0.2.7,>=0.2.5, but you'll have imgaug 0.2.9 which is incompatible.\u001b[0m\n",
            "Installing collected packages: opencv-python\n",
            "Successfully installed opencv-python-3.4.2.16\n",
            "Collecting opencv-contrib-python==3.4.2.16\n",
            "\u001b[?25l  Downloading https://files.pythonhosted.org/packages/08/f1/66330f4042c4fb3b2d77a159db8e8916d9cdecc29bc8c1f56bc7f8a9bec9/opencv_contrib_python-3.4.2.16-cp36-cp36m-manylinux1_x86_64.whl (30.6MB)\n",
            "\u001b[K     |████████████████████████████████| 30.6MB 61kB/s \n",
            "\u001b[?25hRequirement already satisfied: numpy>=1.11.3 in /usr/local/lib/python3.6/dist-packages (from opencv-contrib-python==3.4.2.16) (1.17.4)\n",
            "Installing collected packages: opencv-contrib-python\n",
            "Successfully installed opencv-contrib-python-3.4.2.16\n"
          ],
          "name": "stdout"
        }
      ]
    },
    {
      "cell_type": "markdown",
      "metadata": {
        "id": "2GUS7OAgR5Mf",
        "colab_type": "text"
      },
      "source": [
        "# * import library"
      ]
    },
    {
      "cell_type": "code",
      "metadata": {
        "id": "84275nckR9A_",
        "colab_type": "code",
        "colab": {}
      },
      "source": [
        "import pandas as pd\n",
        "import numpy as np\n",
        "import cv2\n",
        "import matplotlib.pyplot as plt\n",
        "import os\n",
        "import torch\n",
        "from PIL import Image\n",
        "from torch.utils.data import DataLoader, TensorDataset\n",
        "from sklearn.preprocessing import StandardScaler\n",
        "from tqdm import tqdm_notebook as tqdm\n",
        "\n",
        "import glob"
      ],
      "execution_count": 0,
      "outputs": []
    },
    {
      "cell_type": "code",
      "metadata": {
        "id": "PUBBEEB6SOAU",
        "colab_type": "code",
        "outputId": "7df9254e-9263-4e22-d8e6-f689f59e5928",
        "colab": {
          "base_uri": "https://localhost:8080/",
          "height": 34
        }
      },
      "source": [
        "cv2.__version__"
      ],
      "execution_count": 6,
      "outputs": [
        {
          "output_type": "execute_result",
          "data": {
            "text/plain": [
              "'3.4.2'"
            ]
          },
          "metadata": {
            "tags": []
          },
          "execution_count": 6
        }
      ]
    },
    {
      "cell_type": "markdown",
      "metadata": {
        "id": "YrGA5nJVSlVz",
        "colab_type": "text"
      },
      "source": [
        "# * Feature Extraction\n",
        "- Dense Sift"
      ]
    },
    {
      "cell_type": "code",
      "metadata": {
        "id": "rPb0z9jVVMnz",
        "colab_type": "code",
        "colab": {}
      },
      "source": [
        "# label readying.\n",
        "df_data = pd.read_csv('/content/input/Label2Names.csv', header=None)"
      ],
      "execution_count": 0,
      "outputs": []
    },
    {
      "cell_type": "code",
      "metadata": {
        "id": "Ib_XGn16Sh0S",
        "colab_type": "code",
        "outputId": "2b50d895-9290-46b2-afe2-6441e0cf37e7",
        "colab": {
          "base_uri": "https://localhost:8080/",
          "height": 66,
          "referenced_widgets": [
            "bb2af36fbe994ba48609e64ffd72ef69",
            "30f341dd644f416b89d56a7a1f27141f",
            "0f0aa3971c134c3fa599de9e53623278",
            "ab022e73657f45939debd56b2a7d5beb",
            "ea81aad9c7aa4c938e78bf8b43d8537f",
            "270326ba015f45899ff79dc8eee76907",
            "8ff221f4f184481ebf1de46ad94ac1cd",
            "804e23bc187046ceaf3df16421f0074e"
          ]
        }
      },
      "source": [
        "# train dense sift\n",
        "train_path = \"/content/input/train\"\n",
        "\n",
        "train_des = list()\n",
        "train_images = list()\n",
        "train_label = list()\n",
        "train_fea = list()\n",
        "\n",
        "dense = 16\n",
        "img_size = 256\n",
        "\n",
        "for cls in tqdm(os.listdir(train_path)):\n",
        "  img_list = os.listdir(train_path + '/' + cls)\n",
        "  img_list.sort()\n",
        "  if cls == 'BACKGROUND_Google':\n",
        "    label = 102\n",
        "  else :\n",
        "    label = (df_data.index[df_data[1]==cls] + 1).tolist()[0]\n",
        "\n",
        "  for img in img_list:\n",
        "\n",
        "    image = cv2.imread(train_path + '/' + cls + '/' + img)\n",
        "\n",
        "    gray = cv2.cvtColor(image,cv2.COLOR_BGR2GRAY)\n",
        "    gray = cv2.resize(gray, (img_size, img_size))\n",
        "    sift = cv2.xfeatures2d.SIFT_create()\n",
        "\n",
        "    kp = [cv2.KeyPoint(x, y, dense) for y in range(0, gray.shape[0]\n",
        "                                                   , dense) for x in range(0, gray.shape[1], dense)]\n",
        "    keypoint, des = sift.compute(gray, kp)\n",
        "\n",
        "    train_des.append(des)\n",
        "    train_fea.append(des)\n",
        "    train_images.append(gray)\n",
        "    train_label.append(label)"
      ],
      "execution_count": 30,
      "outputs": [
        {
          "output_type": "display_data",
          "data": {
            "application/vnd.jupyter.widget-view+json": {
              "model_id": "bb2af36fbe994ba48609e64ffd72ef69",
              "version_minor": 0,
              "version_major": 2
            },
            "text/plain": [
              "HBox(children=(IntProgress(value=0, max=102), HTML(value='')))"
            ]
          },
          "metadata": {
            "tags": []
          }
        },
        {
          "output_type": "stream",
          "text": [
            "\n"
          ],
          "name": "stdout"
        }
      ]
    },
    {
      "cell_type": "code",
      "metadata": {
        "id": "1NIRQ0ymXNnL",
        "colab_type": "code",
        "outputId": "7f75420a-3e24-4285-f115-ae4b22911a2e",
        "colab": {
          "base_uri": "https://localhost:8080/",
          "height": 66,
          "referenced_widgets": [
            "973a99612b77443fbe6089f41082e7ec",
            "787a09d7e6744678bacc695e34ffd334",
            "b236297a653d40939caa69e0624bd8c2",
            "65c7961171b64212a03b3912468995e9",
            "7552fba685394ae7be5f121167912e13",
            "57ce4ca2e7764040b730e0a7918ba224",
            "c047085a4eff47afb4e7f3cd5e4de4f6",
            "03ecd52486124294813af6bf42d462a1"
          ]
        }
      },
      "source": [
        "# test dense sift\n",
        "test_path = \"/content/input/testAll_v2\"\n",
        "\n",
        "test_des = list()\n",
        "test_images = list()\n",
        "test_fea = list()\n",
        "\n",
        "dense = 16\n",
        "img_size = 256\n",
        "\n",
        "img_list = os.listdir(test_path)\n",
        "img_list.sort()\n",
        "\n",
        "for img in tqdm(img_list):\n",
        "  image = cv2.imread(test_path + '/' + img)\n",
        "\n",
        "  gray = cv2.cvtColor(image, cv2.COLOR_BGR2GRAY)\n",
        "  gray = cv2.resize(gray, (img_size, img_size))\n",
        "  sift = cv2.xfeatures2d.SIFT_create()\n",
        "\n",
        "  kp = [cv2.KeyPoint(x, y, dense) for y in range(0, gray.shape[0]\n",
        "                                                   , dense) for x in range(0, gray.shape[1], dense)]\n",
        "  keypoint, des = sift.compute(gray, kp)\n",
        "  test_des.append(des)\n",
        "  test_images.append(gray)\n",
        "  test_fea.append(des)"
      ],
      "execution_count": 23,
      "outputs": [
        {
          "output_type": "display_data",
          "data": {
            "application/vnd.jupyter.widget-view+json": {
              "model_id": "973a99612b77443fbe6089f41082e7ec",
              "version_minor": 0,
              "version_major": 2
            },
            "text/plain": [
              "HBox(children=(IntProgress(value=0, max=1692), HTML(value='')))"
            ]
          },
          "metadata": {
            "tags": []
          }
        },
        {
          "output_type": "stream",
          "text": [
            "\n"
          ],
          "name": "stdout"
        }
      ]
    },
    {
      "cell_type": "code",
      "metadata": {
        "id": "8XfJD9L5mynS",
        "colab_type": "code",
        "colab": {}
      },
      "source": [
        "# import pickle\n",
        "\n",
        "# # Save pickle\n",
        "# with open(\"densetrain_des.pickle\", \"wb\") as f:\n",
        "#   pickle.dump(train_des, f)\n",
        "\n",
        "# with open(\"densetest_des.pickle\", \"wb\") as f:\n",
        "#   pickle.dump(test_des, f)\n"
      ],
      "execution_count": 0,
      "outputs": []
    },
    {
      "cell_type": "code",
      "metadata": {
        "id": "G33At0y2nIGT",
        "colab_type": "code",
        "colab": {}
      },
      "source": [
        "# with open(\"densetrain_des.pickle\", \"rb\") as r:\n",
        "#   read_data = pickle.load(r)\n",
        "\n",
        "# with open(\"densetest_des.pickle\", \"rb\") as r:\n",
        "#   read_data = pickle.load(r)"
      ],
      "execution_count": 0,
      "outputs": []
    },
    {
      "cell_type": "code",
      "metadata": {
        "id": "nGP7gH6MeEnu",
        "colab_type": "code",
        "colab": {
          "base_uri": "https://localhost:8080/",
          "height": 34
        },
        "outputId": "b37631af-efe0-423f-9444-a343f0420580"
      },
      "source": [
        "train_images = np.array(train_images)\n",
        "train_images.shape"
      ],
      "execution_count": 34,
      "outputs": [
        {
          "output_type": "execute_result",
          "data": {
            "text/plain": [
              "(3060, 256, 256)"
            ]
          },
          "metadata": {
            "tags": []
          },
          "execution_count": 34
        }
      ]
    },
    {
      "cell_type": "code",
      "metadata": {
        "id": "HCTtBklscmUc",
        "colab_type": "code",
        "colab": {
          "base_uri": "https://localhost:8080/",
          "height": 34
        },
        "outputId": "cba71886-435a-4d4f-da2b-4fa830ed900f"
      },
      "source": [
        "train_fea = np.array(train_fea)\n",
        "train_fea.shape"
      ],
      "execution_count": 33,
      "outputs": [
        {
          "output_type": "execute_result",
          "data": {
            "text/plain": [
              "(3060, 256, 128)"
            ]
          },
          "metadata": {
            "tags": []
          },
          "execution_count": 33
        }
      ]
    },
    {
      "cell_type": "markdown",
      "metadata": {
        "id": "7eJAyBObYkaK",
        "colab_type": "text"
      },
      "source": [
        "# * Checking the shape"
      ]
    },
    {
      "cell_type": "code",
      "metadata": {
        "id": "cySUMUAfYkCL",
        "colab_type": "code",
        "outputId": "a0ec5277-5fee-4abb-87c3-9e5d2377ff38",
        "colab": {
          "base_uri": "https://localhost:8080/",
          "height": 34
        }
      },
      "source": [
        "train_des = np.array(train_des)\n",
        "train_des.shape"
      ],
      "execution_count": 12,
      "outputs": [
        {
          "output_type": "execute_result",
          "data": {
            "text/plain": [
              "(3060, 256, 128)"
            ]
          },
          "metadata": {
            "tags": []
          },
          "execution_count": 12
        }
      ]
    },
    {
      "cell_type": "code",
      "metadata": {
        "id": "vpn2NtCEZLfS",
        "colab_type": "code",
        "outputId": "870c3ba6-8d61-4576-a7f4-981d3aad82ba",
        "colab": {
          "base_uri": "https://localhost:8080/",
          "height": 34
        }
      },
      "source": [
        "test_des = np.array(test_des)\n",
        "test_des.shape"
      ],
      "execution_count": 21,
      "outputs": [
        {
          "output_type": "execute_result",
          "data": {
            "text/plain": [
              "(1692, 256, 128)"
            ]
          },
          "metadata": {
            "tags": []
          },
          "execution_count": 21
        }
      ]
    },
    {
      "cell_type": "code",
      "metadata": {
        "id": "mSTtQqEzZbmZ",
        "colab_type": "code",
        "outputId": "4ac39769-54b8-4aab-88c7-3ffa1dff4b82",
        "colab": {
          "base_uri": "https://localhost:8080/",
          "height": 34
        }
      },
      "source": [
        "# for codebook histogram, reshape 1d, 128 dimensions\n",
        "\n",
        "train_des = train_des.reshape(-1,128)\n",
        "train_des.shape"
      ],
      "execution_count": 13,
      "outputs": [
        {
          "output_type": "execute_result",
          "data": {
            "text/plain": [
              "(783360, 128)"
            ]
          },
          "metadata": {
            "tags": []
          },
          "execution_count": 13
        }
      ]
    },
    {
      "cell_type": "code",
      "metadata": {
        "id": "R7FcRBUnZauK",
        "colab_type": "code",
        "outputId": "bca76f61-3bd2-40b4-d13d-e1769249c923",
        "colab": {
          "base_uri": "https://localhost:8080/",
          "height": 34
        }
      },
      "source": [
        "test_des = test_des.reshape(-1,128)\n",
        "test_des.shape"
      ],
      "execution_count": 22,
      "outputs": [
        {
          "output_type": "execute_result",
          "data": {
            "text/plain": [
              "(433152, 128)"
            ]
          },
          "metadata": {
            "tags": []
          },
          "execution_count": 22
        }
      ]
    },
    {
      "cell_type": "markdown",
      "metadata": {
        "id": "RmVc09L0Z-xa",
        "colab_type": "text"
      },
      "source": [
        "# * 0 depth.ver (Before SPM) >= 0.41 "
      ]
    },
    {
      "cell_type": "code",
      "metadata": {
        "id": "D_596DWza1xV",
        "colab_type": "code",
        "outputId": "6d4a477c-8b18-4869-e3c3-380153ec7770",
        "colab": {
          "base_uri": "https://localhost:8080/",
          "height": 338
        }
      },
      "source": [
        "# gpu kmeans install\n",
        "pip install kmc2"
      ],
      "execution_count": 14,
      "outputs": [
        {
          "output_type": "stream",
          "text": [
            "Collecting kmc2\n",
            "\u001b[?25l  Downloading https://files.pythonhosted.org/packages/b6/a2/42b2dd4fa0c425912c03222dd443f1d6aceed410a29467d1e5d8989c72f1/kmc2-0.1.tar.gz (102kB)\n",
            "\u001b[K     |████████████████████████████████| 102kB 2.4MB/s \n",
            "\u001b[?25hRequirement already satisfied: numpy in /usr/local/lib/python3.6/dist-packages (from kmc2) (1.17.4)\n",
            "Requirement already satisfied: scipy in /usr/local/lib/python3.6/dist-packages (from kmc2) (1.3.2)\n",
            "Requirement already satisfied: scikit-learn in /usr/local/lib/python3.6/dist-packages (from kmc2) (0.21.3)\n",
            "Collecting nose\n",
            "\u001b[?25l  Downloading https://files.pythonhosted.org/packages/15/d8/dd071918c040f50fa1cf80da16423af51ff8ce4a0f2399b7bf8de45ac3d9/nose-1.3.7-py3-none-any.whl (154kB)\n",
            "\u001b[K     |████████████████████████████████| 163kB 8.8MB/s \n",
            "\u001b[?25hRequirement already satisfied: joblib>=0.11 in /usr/local/lib/python3.6/dist-packages (from scikit-learn->kmc2) (0.14.0)\n",
            "Building wheels for collected packages: kmc2\n",
            "  Building wheel for kmc2 (setup.py) ... \u001b[?25l\u001b[?25hdone\n",
            "  Created wheel for kmc2: filename=kmc2-0.1-cp36-cp36m-linux_x86_64.whl size=252217 sha256=2b315f384910d44ad853714d05ffffa2efff40545c06fa6c542aa2abfd0ac7ad\n",
            "  Stored in directory: /root/.cache/pip/wheels/5c/ba/f0/4c8b421be72d4f2d1a93233c2f6f591e7d8b0bda05a1f4616f\n",
            "Successfully built kmc2\n",
            "Installing collected packages: nose, kmc2\n",
            "Successfully installed kmc2-0.1 nose-1.3.7\n"
          ],
          "name": "stdout"
        }
      ]
    },
    {
      "cell_type": "code",
      "metadata": {
        "id": "ecNZpwjUa7Vx",
        "colab_type": "code",
        "colab": {}
      },
      "source": [
        "import kmc2\n",
        "import copy\n",
        "from sklearn.cluster import MiniBatchKMeans"
      ],
      "execution_count": 0,
      "outputs": []
    },
    {
      "cell_type": "code",
      "metadata": {
        "id": "7x2396rf0-0g",
        "colab_type": "code",
        "colab": {}
      },
      "source": [
        "# making set histograms\n",
        "\n",
        "def making_histograms(train_data, kmeans, k):\n",
        "  data_hist = []\n",
        "  for i in range(len(train_data)):\n",
        "    data = copy.deepcopy(train_data[i])\n",
        "    predict = kmeans.predict(data)\n",
        "    data_hist.append(np.bincount(predict, minlength = k).reshape(1,-1).ravel())\n",
        "    \n",
        "  return np.array(data_hist)"
      ],
      "execution_count": 0,
      "outputs": []
    },
    {
      "cell_type": "code",
      "metadata": {
        "id": "bXBKNMq31rNr",
        "colab_type": "code",
        "outputId": "9a8fb87d-66e5-46d5-942a-c7f126820662",
        "colab": {
          "base_uri": "https://localhost:8080/",
          "height": 72
        }
      },
      "source": [
        "#특징에 대한 클러스터링을 진행\n",
        "\n",
        "seeding = kmc2.kmc2(train_des, 200)\n",
        "kmeans = MiniBatchKMeans(200, init = seeding).fit(train_des)\n",
        "codebook = kmeans.cluster_centers_"
      ],
      "execution_count": 18,
      "outputs": [
        {
          "output_type": "stream",
          "text": [
            "/usr/local/lib/python3.6/dist-packages/ipykernel_launcher.py:3: RuntimeWarning: Explicit initial center position passed: performing only one init in MiniBatchKMeans instead of n_init=3\n",
            "  This is separate from the ipykernel package so we can avoid doing imports until\n"
          ],
          "name": "stderr"
        }
      ]
    },
    {
      "cell_type": "code",
      "metadata": {
        "id": "siFuRg-7QBR6",
        "colab_type": "code",
        "colab": {}
      },
      "source": [
        "# 한번더 뿌려서 clustering 시켜서 codebook 생성\n",
        "train_hist = making_histograms(train_fea, kmeans, 200)"
      ],
      "execution_count": 0,
      "outputs": []
    },
    {
      "cell_type": "code",
      "metadata": {
        "id": "YH7ifFWo1bjs",
        "colab_type": "code",
        "colab": {}
      },
      "source": [
        "test_hist = making_histograms(test_fea, kmeans, 200)"
      ],
      "execution_count": 0,
      "outputs": []
    },
    {
      "cell_type": "code",
      "metadata": {
        "id": "4wjt0Ij537ou",
        "colab_type": "code",
        "colab": {}
      },
      "source": [
        "# spm kernel\n",
        "\n",
        "def histogramIntersection(M,N):\n",
        "  m = M.shape[0]\n",
        "  n = N.shape[0]\n",
        "  result = np.zeros ((m,n))\n",
        "  for i in range(m):\n",
        "    for j in range(n):\n",
        "      temp = np.sum(np.minimum(M[i],N[j]))\n",
        "      result[i][j] = temp\n",
        "  return result"
      ],
      "execution_count": 0,
      "outputs": []
    },
    {
      "cell_type": "code",
      "metadata": {
        "id": "Qv5XT_7Ids8U",
        "colab_type": "code",
        "colab": {}
      },
      "source": [
        "from sklearn.svm import SVC\n",
        "from sklearn.decomposition import PCA as RandomizedPCA\n",
        "\n",
        "from sklearn.pipeline import make_pipeline"
      ],
      "execution_count": 0,
      "outputs": []
    },
    {
      "cell_type": "code",
      "metadata": {
        "id": "1myMbSSxchtc",
        "colab_type": "code",
        "colab": {}
      },
      "source": [
        "gramMatrix = histogramIntersection(train_hist,train_hist)\n",
        "clf = SVC(kernel='precomputed')\n",
        "clf.fit(gramMatrix, train_label)\n",
        "\n",
        "predictMatrix = histogramIntersection(test_hist,train_hist)\n",
        "SVMresults = clf.predict(predictMatrix)"
      ],
      "execution_count": 0,
      "outputs": []
    },
    {
      "cell_type": "code",
      "metadata": {
        "id": "5AH3YUHcfBbv",
        "colab_type": "code",
        "colab": {
          "base_uri": "https://localhost:8080/",
          "height": 34
        },
        "outputId": "54944e92-9b12-4145-ce96-9e7497574eab"
      },
      "source": [
        "SVMresults.shape"
      ],
      "execution_count": 46,
      "outputs": [
        {
          "output_type": "execute_result",
          "data": {
            "text/plain": [
              "(1692,)"
            ]
          },
          "metadata": {
            "tags": []
          },
          "execution_count": 46
        }
      ]
    },
    {
      "cell_type": "code",
      "metadata": {
        "id": "9xIpj1hRgcM7",
        "colab_type": "code",
        "colab": {}
      },
      "source": [
        "img_list = os.listdir(\"/content/input/testAll_v2\")\n",
        "img_list.sort()"
      ],
      "execution_count": 0,
      "outputs": []
    },
    {
      "cell_type": "code",
      "metadata": {
        "id": "8Itr4r8Cggc4",
        "colab_type": "code",
        "colab": {}
      },
      "source": [
        "yfit = SVMresults.reshape(-1,1)\n",
        "result_img_list = np.array(img_list).reshape(-1,1)\n",
        "total_result = np.hstack([result_img_list,yfit])"
      ],
      "execution_count": 0,
      "outputs": []
    },
    {
      "cell_type": "code",
      "metadata": {
        "id": "vI3T8sWzghxh",
        "colab_type": "code",
        "colab": {}
      },
      "source": [
        "df = pd.DataFrame(total_result, columns=[\"Id\",\"Category\"])\n",
        "df.to_csv('results-yongho-v3.csv',index=False, header=True)"
      ],
      "execution_count": 0,
      "outputs": []
    },
    {
      "cell_type": "code",
      "metadata": {
        "id": "0kP4anHZgjhe",
        "colab_type": "code",
        "colab": {
          "base_uri": "https://localhost:8080/",
          "height": 52
        },
        "outputId": "6d903ac1-429a-46f7-ae76-76d0060d752d"
      },
      "source": [
        "! kaggle competitions submit -c 2019-ml-finalproject -f results-yongho-v3.csv -m \"Final_Term_Project\""
      ],
      "execution_count": 50,
      "outputs": [
        {
          "output_type": "stream",
          "text": [
            "100% 29.6k/29.6k [00:00<00:00, 114kB/s]\n",
            "Successfully submitted to 2019.Fall.PatternRecognition "
          ],
          "name": "stdout"
        }
      ]
    }
  ]
}
